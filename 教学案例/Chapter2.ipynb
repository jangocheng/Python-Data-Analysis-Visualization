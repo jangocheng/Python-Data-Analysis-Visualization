{
 "cells": [
  {
   "cell_type": "markdown",
   "id": "2cb4bfe9",
   "metadata": {},
   "source": [
    "表 2.1 常见的Python实现版本\n",
    "名称\t简介\t支持版本\n",
    "CPython\t\tPython的C语言实现版本（https://www.python.org/），使用最为广泛，Python最新的语言特性通过这里发布。\t所有版本\n",
    "Jython\t\tPython的Java语言实现版本（https://www.jython.org/download）。它与Java语言之间的互操作性非常好，可直接使用Java已有的类库。\tPython 2.7.1\n",
    "IronPython\t\tPython的C#语言实现版本（https://ironpython.net/）。它将Python代码编译成C#中间代码，然后运行，它与.NET语言互操作性非常好。\tPython 2.7\n",
    "PyPy\t\tPython的Python语言实现版本（https://pypy.org/）。它使用Just-in-Time 编译器，Python 程序通常在 PyPy 上运行得更快。\tPython 2.7.13 Python 3.6。\n",
    "Python for .NET\t\tCPython实现的.NET托管版本（http://pythonnet.github.io/），它与.NET库和程序代码有很好的互操作性。\tPython 2.7\n",
    "Pyton 3.5-3.7 \n"
   ]
  },
  {
   "cell_type": "code",
   "execution_count": null,
   "id": "c46ac579",
   "metadata": {},
   "outputs": [],
   "source": []
  }
 ],
 "metadata": {
  "kernelspec": {
   "display_name": "Python 3",
   "language": "python",
   "name": "python3"
  },
  "language_info": {
   "codemirror_mode": {
    "name": "ipython",
    "version": 3
   },
   "file_extension": ".py",
   "mimetype": "text/x-python",
   "name": "python",
   "nbconvert_exporter": "python",
   "pygments_lexer": "ipython3",
   "version": "3.9.0"
  }
 },
 "nbformat": 4,
 "nbformat_minor": 5
}
