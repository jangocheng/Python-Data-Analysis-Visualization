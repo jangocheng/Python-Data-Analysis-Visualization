{
 "cells": [
  {
   "cell_type": "code",
   "execution_count": 1,
   "metadata": {},
   "outputs": [
    {
     "data": {
      "text/plain": [
       "<re.Match object; span=(0, 4), match='test'>"
      ]
     },
     "execution_count": 1,
     "metadata": {},
     "output_type": "execute_result"
    }
   ],
   "source": [
    "import re\n",
    "p = re.compile(r'[a-z]+')\n",
    "p.match('test0001')\n",
    "# p.fullmatch(\"test0001\")"
   ]
  },
  {
   "cell_type": "code",
   "execution_count": 2,
   "metadata": {},
   "outputs": [
    {
     "data": {
      "text/plain": [
       "<re.Match object; span=(8, 9), match='3'>"
      ]
     },
     "execution_count": 2,
     "metadata": {},
     "output_type": "execute_result"
    }
   ],
   "source": [
    "import re\n",
    "s='this is 3 books, it is worth $4.0 each'\n",
    "p = re.compile(r'[\\d]+')\n",
    "p.search(s)"
   ]
  },
  {
   "cell_type": "code",
   "execution_count": 3,
   "metadata": {},
   "outputs": [
    {
     "data": {
      "text/plain": [
       "['3', '4', '0']"
      ]
     },
     "execution_count": 3,
     "metadata": {},
     "output_type": "execute_result"
    }
   ],
   "source": [
    "p.findall(s)"
   ]
  },
  {
   "cell_type": "code",
   "execution_count": 4,
   "metadata": {},
   "outputs": [
    {
     "name": "stdout",
     "output_type": "stream",
     "text": [
      "<re.Match object; span=(8, 9), match='3'>\n",
      "<re.Match object; span=(30, 31), match='4'>\n",
      "<re.Match object; span=(32, 33), match='0'>\n"
     ]
    }
   ],
   "source": [
    "for i in p.finditer(s):\n",
    "    print(i)"
   ]
  },
  {
   "cell_type": "code",
   "execution_count": 5,
   "metadata": {},
   "outputs": [
    {
     "data": {
      "text/plain": [
       "'this is 99 books, it is worth $99.99 each'"
      ]
     },
     "execution_count": 5,
     "metadata": {},
     "output_type": "execute_result"
    }
   ],
   "source": [
    "p.sub('99',s)"
   ]
  },
  {
   "cell_type": "code",
   "execution_count": 6,
   "metadata": {},
   "outputs": [
    {
     "data": {
      "text/plain": [
       "'this is 88 books, it is worth $4.0 each'"
      ]
     },
     "execution_count": 6,
     "metadata": {},
     "output_type": "execute_result"
    }
   ],
   "source": [
    "p.sub('88',s,count=1)"
   ]
  },
  {
   "cell_type": "code",
   "execution_count": 7,
   "metadata": {},
   "outputs": [
    {
     "data": {
      "text/plain": [
       "['this is ', ' books, it is worth $', '.', ' each']"
      ]
     },
     "execution_count": 7,
     "metadata": {},
     "output_type": "execute_result"
    }
   ],
   "source": [
    "p.split(s)"
   ]
  },
  {
   "cell_type": "code",
   "execution_count": 8,
   "metadata": {},
   "outputs": [
    {
     "data": {
      "text/plain": [
       "'[\\\\d]+'"
      ]
     },
     "execution_count": 8,
     "metadata": {},
     "output_type": "execute_result"
    }
   ],
   "source": [
    "p.pattern"
   ]
  },
  {
   "cell_type": "code",
   "execution_count": 9,
   "metadata": {},
   "outputs": [
    {
     "data": {
      "text/plain": [
       "32"
      ]
     },
     "execution_count": 9,
     "metadata": {},
     "output_type": "execute_result"
    }
   ],
   "source": [
    "p.flags"
   ]
  },
  {
   "cell_type": "code",
   "execution_count": 10,
   "metadata": {},
   "outputs": [
    {
     "data": {
      "text/plain": [
       "0"
      ]
     },
     "execution_count": 10,
     "metadata": {},
     "output_type": "execute_result"
    }
   ],
   "source": [
    "p.groups"
   ]
  },
  {
   "cell_type": "code",
   "execution_count": 11,
   "metadata": {},
   "outputs": [
    {
     "data": {
      "text/plain": [
       "{}"
      ]
     },
     "execution_count": 11,
     "metadata": {},
     "output_type": "execute_result"
    }
   ],
   "source": [
    "p.groupindex"
   ]
  },
  {
   "cell_type": "code",
   "execution_count": 12,
   "metadata": {},
   "outputs": [
    {
     "name": "stdout",
     "output_type": "stream",
     "text": [
      "6 14 1trouble {}\n",
      "15 23 2trouble {}\n",
      "29 37 3trouble {}\n",
      "38 46 4trouble {}\n"
     ]
    }
   ],
   "source": [
    "import re\n",
    "p=re.compile(r'\\w+ble')\n",
    "s=\"Don't 1trouble 2trouble,till 3trouble 4troubles you\"\n",
    "for m in p.finditer(s):\n",
    "    print(m.start(),m.end(),m.group(),m.groupdict())"
   ]
  },
  {
   "cell_type": "code",
   "execution_count": 13,
   "metadata": {},
   "outputs": [
    {
     "name": "stdout",
     "output_type": "stream",
     "text": [
      "None\n",
      "<re.Match object; span=(2, 3), match='c'>\n"
     ]
    }
   ],
   "source": [
    "import re\n",
    "string = 'abcdef'\n",
    "print(re.match(r'c',string))\n",
    "print(re.search(r'c',string))"
   ]
  },
  {
   "cell_type": "code",
   "execution_count": 14,
   "metadata": {},
   "outputs": [
    {
     "name": "stdout",
     "output_type": "stream",
     "text": [
      "['carefully', 'quickly']\n"
     ]
    }
   ],
   "source": [
    "text = \"He was carefully disguised but captured quickly by police.\"\n",
    "print(re.findall(r\"\\w+ly\", text))"
   ]
  },
  {
   "cell_type": "code",
   "execution_count": 15,
   "metadata": {},
   "outputs": [
    {
     "name": "stderr",
     "output_type": "stream",
     "text": [
      "Building prefix dict from the default dictionary ...\n",
      "Dumping model to file cache C:\\Users\\28032\\AppData\\Local\\Temp\\jieba.cache\n",
      "Loading model cost 2.674 seconds.\n",
      "Prefix dict has been built successfully.\n"
     ]
    },
    {
     "name": "stdout",
     "output_type": "stream",
     "text": [
      "精准模式（默认）：小川/一郎/来到/了/中国人民银行/办理/信用卡\n"
     ]
    }
   ],
   "source": [
    "import jieba\n",
    "content=\"小川一郎来到了中国人民银行办理信用卡\"\n",
    "seg_list = jieba.cut(content,cut_all=False) #精准模式\n",
    "print(\"精准模式（默认）：\"+'/'.join(seg_list))"
   ]
  },
  {
   "cell_type": "code",
   "execution_count": 16,
   "metadata": {},
   "outputs": [
    {
     "name": "stdout",
     "output_type": "stream",
     "text": [
      "全模式：小川/一/郎/来到/了/中国/中国人民银行/国人/人民/人民银行/银行/办理/信用/信用卡\n"
     ]
    }
   ],
   "source": [
    "seg_list = jieba.cut(content, cut_all=True) #全模式\n",
    "print(\"全模式：\" + '/'.join(seg_list))"
   ]
  },
  {
   "cell_type": "code",
   "execution_count": 17,
   "metadata": {},
   "outputs": [
    {
     "name": "stdout",
     "output_type": "stream",
     "text": [
      "搜索引擎模式：小川/一郎/来到/了/中国/国人/人民/银行/中国人民银行/办理/信用/信用卡\n"
     ]
    }
   ],
   "source": [
    "seg_list = jieba.cut_for_search(content) #搜索引擎模式\n",
    "print(\"搜索引擎模式：\" + '/'.join(seg_list))"
   ]
  },
  {
   "cell_type": "code",
   "execution_count": 18,
   "metadata": {},
   "outputs": [
    {
     "name": "stdout",
     "output_type": "stream",
     "text": [
      "精准模式（默认）：小川一郎/来到/了/中国人民银行/办理/信用卡\n",
      "全模式：小川/小川一郎/来到/了/中国/中国人民银行/国人/人民/人民银行/银行/办理/信用/信用卡\n",
      "搜索引擎模式：小川/小川一郎/来到/了/中国/国人/人民/银行/中国人民银行/办理/信用/信用卡\n"
     ]
    }
   ],
   "source": [
    "import jieba\n",
    "jieba.add_word('小川一郎')\n",
    "content=\"小川一郎来到了中国人民银行办理信用卡\"\n",
    "seg_list = jieba.cut(content,cut_all=False) #精准模式\n",
    "print(\"精准模式（默认）：\"+'/'.join(seg_list))\n",
    "seg_list = jieba.cut(content, cut_all=True) #全模式\n",
    "print(\"全模式：\" + '/'.join(seg_list))\n",
    "seg_list = jieba.cut_for_search(content) #搜索引擎模式\n",
    "print(\"搜索引擎模式：\" + '/'.join(seg_list))"
   ]
  },
  {
   "cell_type": "code",
   "execution_count": 19,
   "metadata": {},
   "outputs": [
    {
     "name": "stdout",
     "output_type": "stream",
     "text": [
      "['小川一郎', '信用卡', '中国人民银行', '办理', '来到']\n"
     ]
    }
   ],
   "source": [
    "from jieba import analyse\n",
    "print(jieba.analyse.extract_tags(content))"
   ]
  },
  {
   "cell_type": "code",
   "execution_count": 20,
   "metadata": {},
   "outputs": [
    {
     "name": "stdout",
     "output_type": "stream",
     "text": [
      "Requirement already satisfied: wordcloud in c:\\users\\28032\\anaconda3\\lib\\site-packages (1.8.0)\n",
      "Requirement already satisfied: imageio in c:\\users\\28032\\anaconda3\\lib\\site-packages (2.9.0)\n",
      "Requirement already satisfied: jieba in c:\\users\\28032\\anaconda3\\lib\\site-packages (0.42.1)Note: you may need to restart the kernel to use updated packages.\n",
      "\n",
      "Requirement already satisfied: numpy>=1.6.1 in c:\\users\\28032\\anaconda3\\lib\\site-packages (from wordcloud) (1.18.5)\n",
      "Requirement already satisfied: matplotlib in c:\\users\\28032\\anaconda3\\lib\\site-packages (from wordcloud) (3.2.2)\n",
      "Requirement already satisfied: pillow in c:\\users\\28032\\anaconda3\\lib\\site-packages (from wordcloud) (7.2.0)\n",
      "Requirement already satisfied: python-dateutil>=2.1 in c:\\users\\28032\\anaconda3\\lib\\site-packages (from matplotlib->wordcloud) (2.8.1)\n",
      "Requirement already satisfied: cycler>=0.10 in c:\\users\\28032\\anaconda3\\lib\\site-packages (from matplotlib->wordcloud) (0.10.0)\n",
      "Requirement already satisfied: kiwisolver>=1.0.1 in c:\\users\\28032\\anaconda3\\lib\\site-packages (from matplotlib->wordcloud) (1.2.0)\n",
      "Requirement already satisfied: pyparsing!=2.0.4,!=2.1.2,!=2.1.6,>=2.0.1 in c:\\users\\28032\\anaconda3\\lib\\site-packages (from matplotlib->wordcloud) (2.4.7)\n",
      "Requirement already satisfied: six>=1.5 in c:\\users\\28032\\anaconda3\\lib\\site-packages (from python-dateutil>=2.1->matplotlib->wordcloud) (1.15.0)\n"
     ]
    }
   ],
   "source": [
    "# pip install wordcloud imageio jieba"
   ]
  },
  {
   "cell_type": "code",
   "execution_count": 21,
   "metadata": {},
   "outputs": [
    {
     "data": {
      "text/plain": [
       "<wordcloud.wordcloud.WordCloud at 0x24ba324b880>"
      ]
     },
     "execution_count": 21,
     "metadata": {},
     "output_type": "execute_result"
    }
   ],
   "source": [
    "import wordcloud\n",
    "w = wordcloud.WordCloud(width=800,height=600,background_color='white',font_path='C:\\\\Users\\\\28032\\\\pythonCourseCode\\\\font\\\\MSYH.TTC')\n",
    "content=\"\"\"\n",
    "新冠肺炎疫情正在美国各州蔓延，美国总统特朗普期望美国经济能够在复活节到来前得到“重启”。这一言论受到了民主党总统候选人、前副总统拜登的批评，拜登在接受采访时对特朗普的言论评价道：“如果你想长期破坏经济，那就让这（疫情）再度暴发吧。我们现在甚至还没有减缓疫情增长的趋势，听到总统这样说真是令人失望。他还是不要再说话了，多听专家的意见吧。”拜登还调侃道：“如果可能的话，我还想明天就进政府当上总统呢。”\n",
    "拜登指出，目前美国疫情形势加重是因为“在应该响应的时候没有做出行动”，并呼吁特朗普把民众的健康作为工作重心。同时，拜登还建议特朗普政府多遵循国家过敏症与传染病研究所主任福西等医疗专家的建议，让民众保持社交距离，并且为控制疫情做好充分工作。\n",
    "据美国约翰斯·霍普金斯大学数据显示，截至北京时间3月25日12时30分左右，美国累计确诊新冠肺炎病例55222例，累计死亡797例。。\n",
    "\n",
    "\"\"\"\n",
    "w.generate(content)\n",
    "w.to_file('C:\\\\Users\\\\28032\\\\pythonCourseCode\\\\img\\\\result.jpg')"
   ]
  },
  {
   "cell_type": "code",
   "execution_count": 22,
   "metadata": {},
   "outputs": [
    {
     "data": {
      "text/plain": [
       "<wordcloud.wordcloud.WordCloud at 0x24bac7e8760>"
      ]
     },
     "execution_count": 22,
     "metadata": {},
     "output_type": "execute_result"
    }
   ],
   "source": [
    "import jieba\n",
    "import wordcloud\n",
    "w = wordcloud.WordCloud(width=800,height=600,background_color='white',font_path='C:\\\\Users\\\\28032\\\\pythonCourseCode\\\\font\\\\MSYH.TTC')\n",
    "words = jieba.lcut(content)\n",
    "list1 = []\n",
    "for item in words:\n",
    "    if len(item)<2:\n",
    "        continue\n",
    "    list1.append(item)\n",
    "w.generate(' '.join(list1))\n",
    "w.to_file('C:\\\\Users\\\\28032\\\\pythonCourseCode\\\\img\\\\result.jpg')"
   ]
  },
  {
   "cell_type": "code",
   "execution_count": 23,
   "metadata": {},
   "outputs": [
    {
     "data": {
      "text/plain": [
       "<wordcloud.wordcloud.WordCloud at 0x24bac601fa0>"
      ]
     },
     "execution_count": 23,
     "metadata": {},
     "output_type": "execute_result"
    }
   ],
   "source": [
    "import imageio\n",
    "mk = imageio.imread(\"C:\\\\Users\\\\28032\\\\pythonCourseCode\\\\img\\\\usa.jpg\")\n",
    "w= wordcloud.WordCloud(width=600,height=300,\n",
    "background_color='white',font_path='C:\\\\Users\\\\28032\\\\pythonCourseCode\\\\font\\\\MSYH.TTC',\n",
    "contour_width=1,contour_color='steelblue',mask=mk)\n",
    "w.generate(' '.join(list1))\n",
    "w.to_file('C:\\\\Users\\\\28032\\\\pythonCourseCode\\\\img\\\\result.jpg')"
   ]
  },
  {
   "cell_type": "code",
   "execution_count": 24,
   "metadata": {},
   "outputs": [
    {
     "name": "stdout",
     "output_type": "stream",
     "text": [
      "Collecting snownlpNote: you may need to restart the kernel to use updated packages.\n",
      "  Downloading snownlp-0.12.3.tar.gz (37.6 MB)\n",
      "Building wheels for collected packages: snownlp\n",
      "  Building wheel for snownlp (setup.py): started\n",
      "  Building wheel for snownlp (setup.py): finished with status 'done'\n",
      "\n",
      "  Created wheel for snownlp: filename=snownlp-0.12.3-py3-none-any.whl size=37760960 sha256=012e7090abaf254991652ac744ca7394d410369efe9d4dddc94998c7749e09d6\n",
      "  Stored in directory: c:\\users\\28032\\appdata\\local\\pip\\cache\\wheels\\09\\14\\c5\\ea9aee34229caa97c6f6ff78c82c7f2b1a3423c1f37227b6a6\n",
      "Successfully built snownlp\n",
      "Installing collected packages: snownlp\n",
      "Successfully installed snownlp-0.12.3\n"
     ]
    }
   ],
   "source": [
    "# pip install -U snownlp\n"
   ]
  },
  {
   "cell_type": "code",
   "execution_count": 25,
   "metadata": {},
   "outputs": [
    {
     "name": "stdout",
     "output_type": "stream",
     "text": [
      "[{'大': 1}, {'家': 1}, {'一': 1}, {'起': 1}, {'来': 1}, {'学': 1}, {'P': 1}, {'y': 1}, {'t': 1}, {'h': 1}, {'o': 1}, {'n': 1}]\n",
      "['da', 'jia', 'yi', 'qi', 'lai', 'xue', 'Python']\n",
      "['Python', '学']\n",
      "0.7111397366661859\n"
     ]
    }
   ],
   "source": [
    "import snownlp\n",
    "word = snownlp.SnowNLP('大家一起来学Python')\n",
    "print(word.tf)\n",
    "print(word.pinyin)\n",
    "print(word.keywords())\n",
    "feeling = word.sentiments\n",
    "print(feeling)"
   ]
  },
  {
   "cell_type": "code",
   "execution_count": null,
   "metadata": {},
   "outputs": [],
   "source": []
  }
 ],
 "metadata": {
  "kernelspec": {
   "display_name": "Python 3",
   "language": "python",
   "name": "python3"
  },
  "language_info": {
   "codemirror_mode": {
    "name": "ipython",
    "version": 3
   },
   "file_extension": ".py",
   "mimetype": "text/x-python",
   "name": "python",
   "nbconvert_exporter": "python",
   "pygments_lexer": "ipython3",
   "version": "3.8.3"
  }
 },
 "nbformat": 4,
 "nbformat_minor": 4
}
