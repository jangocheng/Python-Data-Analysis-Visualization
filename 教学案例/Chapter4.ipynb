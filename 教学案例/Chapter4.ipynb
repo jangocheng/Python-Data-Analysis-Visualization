{
 "cells": [
  {
   "cell_type": "code",
   "execution_count": 1,
   "metadata": {},
   "outputs": [
    {
     "name": "stdout",
     "output_type": "stream",
     "text": [
      "140731611738080\n",
      "<class 'int'>\n"
     ]
    },
    {
     "data": {
      "text/plain": [
       "4"
      ]
     },
     "execution_count": 1,
     "metadata": {},
     "output_type": "execute_result"
    }
   ],
   "source": [
    "#案例4-1\n",
    "#数据类型是类\n",
    "a = 8\n",
    "print(id(a))\n",
    "print(type(a))\n",
    "a.bit_length()"
   ]
  },
  {
   "cell_type": "code",
   "execution_count": 2,
   "metadata": {},
   "outputs": [
    {
     "data": {
      "text/plain": [
       "sys.float_info(max=1.7976931348623157e+308, max_exp=1024, max_10_exp=308, min=2.2250738585072014e-308, min_exp=-1021, min_10_exp=-307, dig=15, mant_dig=53, epsilon=2.220446049250313e-16, radix=2, rounds=1)"
      ]
     },
     "execution_count": 2,
     "metadata": {},
     "output_type": "execute_result"
    }
   ],
   "source": [
    "#案例4-2\n",
    "#查看数据类型的相关信息\n",
    "import sys\n",
    "sys.int_info\n",
    "sys.float_info"
   ]
  },
  {
   "cell_type": "code",
   "execution_count": 3,
   "metadata": {},
   "outputs": [
    {
     "name": "stdout",
     "output_type": "stream",
     "text": [
      "2751\n",
      "0x64\n",
      "0o144\n",
      "0b1100100\n"
     ]
    }
   ],
   "source": [
    "#案例4-3\n",
    "#查看数字的各进制表示\n",
    "number = 0xABF\n",
    "print(number)\n",
    "print(hex(100))    #十六进制\n",
    "print(oct(100))    #八进制\n",
    "print(bin(100))    #二进制"
   ]
  },
  {
   "cell_type": "code",
   "execution_count": 4,
   "metadata": {},
   "outputs": [
    {
     "name": "stdout",
     "output_type": "stream",
     "text": [
      "12\n",
      "20\n",
      "18\n",
      "36\n",
      "4.5\n",
      "4.5\n",
      "20.25\n",
      "2.0\n"
     ]
    }
   ],
   "source": [
    "#案例4-4\n",
    "#Python语言赋值运算符代码示例\n",
    "a = 12\n",
    "print(a)\n",
    "a+=8\n",
    "print(a)\n",
    "a-=2\n",
    "print(a)\n",
    "a*=2\n",
    "print(a)\n",
    "a/=8\n",
    "print(a)\n",
    "a%=8\n",
    "print(a)\n",
    "a**=2\n",
    "print(a)\n",
    "a//=8\n",
    "print(a)"
   ]
  },
  {
   "cell_type": "code",
   "execution_count": 5,
   "metadata": {},
   "outputs": [
    {
     "name": "stdout",
     "output_type": "stream",
     "text": [
      " hello world\n",
      " hello world hello world hello world\n"
     ]
    }
   ],
   "source": [
    "#案例4-5\n",
    "#Python语言对象算术运算符的代码示例\n",
    "a,b = ' hello ','world'\n",
    "print(a+b)\n",
    "print((a+b)*3)"
   ]
  },
  {
   "cell_type": "code",
   "execution_count": 6,
   "metadata": {},
   "outputs": [
    {
     "data": {
      "text/plain": [
       "True"
      ]
     },
     "execution_count": 6,
     "metadata": {},
     "output_type": "execute_result"
    }
   ],
   "source": [
    "#案例4-6\n",
    "#Python语言对象比较运算符代码示例。\n",
    "s = 'hello world'\n",
    "t = 'hello'\n",
    "s>t"
   ]
  },
  {
   "cell_type": "code",
   "execution_count": 7,
   "metadata": {},
   "outputs": [
    {
     "name": "stdout",
     "output_type": "stream",
     "text": [
      "58403\n",
      "54321\n",
      "True\n"
     ]
    }
   ],
   "source": [
    "#案例4-7\n",
    "#用异或实现数据的简单加密解密示例。\n",
    "#任何数据经过与等长的同一个密钥异或两次，就可以得到原来的数据。\n",
    "#即：(a^b)^b=a.\n",
    "#简单异或加密演示，a为原始数据\n",
    "a,b = 54321, 12306\n",
    "#b=12306为密钥, c为加密后的数据:\n",
    "c=a^b\n",
    "print(c)\n",
    "#d为解密后数据\n",
    "d=c^b\n",
    "print(d)\n",
    "print(d==a)\n"
   ]
  },
  {
   "cell_type": "code",
   "execution_count": 8,
   "metadata": {},
   "outputs": [
    {
     "name": "stdout",
     "output_type": "stream",
     "text": [
      "True\n",
      "True\n"
     ]
    }
   ],
   "source": [
    "#案例4-8\n",
    "#判断子类关系。\n",
    "print(isinstance(True,int))\n",
    "print(issubclass(bool,int))"
   ]
  },
  {
   "cell_type": "code",
   "execution_count": 9,
   "metadata": {},
   "outputs": [
    {
     "name": "stdout",
     "output_type": "stream",
     "text": [
      "False\n",
      "True\n",
      "True\n"
     ]
    }
   ],
   "source": [
    "#案例4-9\n",
    "#bool()函数案例\n",
    "print(bool([]))\n",
    "print(bool(['']))\n",
    "print(bool(' '))"
   ]
  },
  {
   "cell_type": "code",
   "execution_count": 10,
   "metadata": {},
   "outputs": [
    {
     "name": "stdout",
     "output_type": "stream",
     "text": [
      "True\n",
      "this is a test\n"
     ]
    }
   ],
   "source": [
    "#案例4-10\n",
    "#逻辑运算符案例\n",
    "print(True or 100)\n",
    "print(False or 'this is a test')"
   ]
  },
  {
   "cell_type": "code",
   "execution_count": 11,
   "metadata": {},
   "outputs": [
    {
     "name": "stdout",
     "output_type": "stream",
     "text": [
      "['__doc__', '__loader__', '__name__', '__package__', '__spec__', 'acos', 'acosh', 'asin', 'asinh', 'atan', 'atan2', 'atanh', 'ceil', 'copysign', 'cos', 'cosh', 'degrees', 'e', 'erf', 'erfc', 'exp', 'expm1', 'fabs', 'factorial', 'floor', 'fmod', 'frexp', 'fsum', 'gamma', 'gcd', 'hypot', 'inf', 'isclose', 'isfinite', 'isinf', 'isnan', 'ldexp', 'lgamma', 'log', 'log10', 'log1p', 'log2', 'modf', 'nan', 'pi', 'pow', 'radians', 'remainder', 'sin', 'sinh', 'sqrt', 'tan', 'tanh', 'tau', 'trunc']\n",
      "0.8939966636005579\n"
     ]
    }
   ],
   "source": [
    "#案例4-11\n",
    "#查看数学模块的相关信息\n",
    "import math\n",
    "print(dir(math))\n",
    "print(math.sin(90))"
   ]
  },
  {
   "cell_type": "code",
   "execution_count": 12,
   "metadata": {},
   "outputs": [],
   "source": [
    "#案例4-12\n",
    "#设置随机数种子\n",
    "import random\n",
    "random.seed(2020)"
   ]
  },
  {
   "cell_type": "code",
   "execution_count": 13,
   "metadata": {},
   "outputs": [
    {
     "data": {
      "text/plain": [
       "0.6196692706606616"
      ]
     },
     "execution_count": 13,
     "metadata": {},
     "output_type": "execute_result"
    }
   ],
   "source": [
    "#案例4-13\n",
    "#随机产生一个0-1之间的浮点数\n",
    "import random\n",
    "random.random()"
   ]
  },
  {
   "cell_type": "code",
   "execution_count": 14,
   "metadata": {},
   "outputs": [
    {
     "data": {
      "text/plain": [
       "22"
      ]
     },
     "execution_count": 14,
     "metadata": {},
     "output_type": "execute_result"
    }
   ],
   "source": [
    "#案例4-14\n",
    "#randint()案例\n",
    "random.randint(0,100)"
   ]
  },
  {
   "cell_type": "code",
   "execution_count": 15,
   "metadata": {},
   "outputs": [
    {
     "data": {
      "text/plain": [
       "70"
      ]
     },
     "execution_count": 15,
     "metadata": {},
     "output_type": "execute_result"
    }
   ],
   "source": [
    "#案例4-15\n",
    "#randrange()案例\n",
    "random.randrange(0,100,5)"
   ]
  },
  {
   "cell_type": "code",
   "execution_count": 16,
   "metadata": {},
   "outputs": [
    {
     "name": "stdout",
     "output_type": "stream",
     "text": [
      "94.56934589332502\n",
      "52.58390577984058\n"
     ]
    }
   ],
   "source": [
    "#案例4-16\n",
    "#uniform()案例\n",
    "print(random.uniform(0,100))\n",
    "print(random.uniform(100,0))"
   ]
  },
  {
   "cell_type": "code",
   "execution_count": 17,
   "metadata": {},
   "outputs": [
    {
     "data": {
      "text/plain": [
       "'not'"
      ]
     },
     "execution_count": 17,
     "metadata": {},
     "output_type": "execute_result"
    }
   ],
   "source": [
    "#案例4-17\n",
    "#choice()案例\n",
    "import keyword\n",
    "random.choice(keyword.kwlist)"
   ]
  },
  {
   "cell_type": "code",
   "execution_count": 18,
   "metadata": {},
   "outputs": [
    {
     "name": "stdout",
     "output_type": "stream",
     "text": [
      "['global', 'import', 'finally', 'break', 'await']\n",
      "[22, 20, 16, 4, 22, 16]\n",
      "[14]\n"
     ]
    }
   ],
   "source": [
    "#案例4-18\n",
    "#choices()案例\n",
    "print(random.choices(keyword.kwlist,k=5))\n",
    "print(random.choices(range(1,33),k=6))\n",
    "print(random.choices(range(1,16),k=1))"
   ]
  },
  {
   "cell_type": "code",
   "execution_count": 19,
   "metadata": {},
   "outputs": [
    {
     "name": "stdout",
     "output_type": "stream",
     "text": [
      "L\n",
      "O\n",
      "E\n"
     ]
    }
   ],
   "source": [
    "#案例4-19\n",
    "#索引值案例\n",
    "s = ['H','E','L','L','O']\n",
    "print(s[3])\n",
    "print(s[4])\n",
    "print(s[-4])"
   ]
  },
  {
   "cell_type": "code",
   "execution_count": 20,
   "metadata": {},
   "outputs": [
    {
     "name": "stdout",
     "output_type": "stream",
     "text": [
      "['0', '2', '4', '6', '8']\n",
      "['9', '7', '5', '3', '1']\n",
      "True\n",
      "True\n",
      "True\n",
      "True\n"
     ]
    }
   ],
   "source": [
    "#案例4-20\n",
    "#元素切片演示代码\n",
    "s=['0', '1', '2', '3', '4', '5', '6', '7', '8', '9']\n",
    "print(s[0:9:2])\n",
    "print(s[-1:-10:-2])\n",
    "print(s[0:10:1]==s[::])\n",
    "print(s[0:8:1]==s[:8:])\n",
    "print(s[0:10:2]==s[::2])\n",
    "print(s[-2::]==s[-2:10:1])"
   ]
  },
  {
   "cell_type": "code",
   "execution_count": 21,
   "metadata": {},
   "outputs": [
    {
     "name": "stdout",
     "output_type": "stream",
     "text": [
      "True\n",
      "True\n",
      "True\n",
      "False\n",
      "True\n",
      "False\n"
     ]
    }
   ],
   "source": [
    "#4-21\n",
    "#==与is not的区别与代码示例\n",
    "x,y = 10,10\n",
    "print(id(x)==id(y))\n",
    "print(x==y)\n",
    "print(x is y)\n",
    "xx,yy = (1,2,3),(1,2,3)\n",
    "print(id(xx)==id(yy))\n",
    "print(xx==yy)\n",
    "print(xx is yy)"
   ]
  },
  {
   "cell_type": "code",
   "execution_count": 22,
   "metadata": {},
   "outputs": [
    {
     "name": "stdout",
     "output_type": "stream",
     "text": [
      "hello,world\n",
      "11\n"
     ]
    }
   ],
   "source": [
    "#4-22\n",
    "#函数作为列表元素演示代码\n",
    "a = [print,len]\n",
    "a[0]('hello,world')\n",
    "print(a[1]('hello,world'))"
   ]
  },
  {
   "cell_type": "code",
   "execution_count": 23,
   "metadata": {},
   "outputs": [
    {
     "name": "stdout",
     "output_type": "stream",
     "text": [
      "[0, 1, 2, 3, 4, 5]\n",
      "[99, 1, 88, 3, 77, 5]\n",
      "[1, 3, 5, 77, 88, 99]\n",
      "[99, 88, 77, 5, 3, 1]\n"
     ]
    }
   ],
   "source": [
    "#4-23\n",
    "#列表函数演示代码。将一个列表中偶数位置的元素替换\n",
    "a = list(range(6))\n",
    "print(a)\n",
    "a[::2]=[99,88,77]\n",
    "print(a)\n",
    "a.sort()\n",
    "print(a)\n",
    "a.reverse()\n",
    "print(a)"
   ]
  },
  {
   "cell_type": "code",
   "execution_count": 24,
   "metadata": {},
   "outputs": [
    {
     "name": "stdout",
     "output_type": "stream",
     "text": [
      "[0, 1, 2, 3, 4, 5, 6, 7, 8, 9]\n",
      "[1, 2, 3, 4, 5, 6, 7, 8, 9, 10]\n",
      "[0, 3, 6, 9]\n",
      "[0, -1, -2, -3, -4, -5, -6, -7, -8, -9]\n"
     ]
    }
   ],
   "source": [
    "#4-24\n",
    "#range对象演示代码\n",
    "print(list(range(10)))\n",
    "print(list(range(1,11)))\n",
    "print(list(range(0,10,3)))\n",
    "print(list(range(0,-10,-1)))\n"
   ]
  },
  {
   "cell_type": "code",
   "execution_count": 25,
   "metadata": {},
   "outputs": [
    {
     "name": "stdout",
     "output_type": "stream",
     "text": [
      "4\n",
      "([1, 2, 99], 3, 4, 5)\n"
     ]
    }
   ],
   "source": [
    "#4-25\n",
    "#tuple对象演示代码\n",
    "demo = ([1,2],3,4,5)\n",
    "print(len(demo))\n",
    "demo[0].append(99)\n",
    "print(demo)"
   ]
  },
  {
   "cell_type": "code",
   "execution_count": 26,
   "metadata": {},
   "outputs": [
    {
     "name": "stdout",
     "output_type": "stream",
     "text": [
      "65\n",
      "20013\n",
      "B\n",
      "文\n",
      "中文\n"
     ]
    }
   ],
   "source": [
    "#4-26\n",
    "#ord()与chr()案例\n",
    "print(ord('A'))\n",
    "print(ord('中'))\n",
    "print(chr(66))\n",
    "print(chr(25991))\n",
    "print('\\u4e2d\\u6587')"
   ]
  },
  {
   "cell_type": "code",
   "execution_count": 27,
   "metadata": {},
   "outputs": [
    {
     "name": "stdout",
     "output_type": "stream",
     "text": [
      "1203625389504\n",
      "True\n",
      "1203625565424\n",
      "1203625389504\n"
     ]
    }
   ],
   "source": [
    "#4-27\n",
    "#字符串是不可变序列的实验代码。\n",
    "s='hello'\n",
    "t='hello'\n",
    "s=s+ 'world'\n",
    "s='hello'\n",
    "print(id(s))\n",
    "t='hello'\n",
    "print(s is t)\n",
    "s=s+' world'\n",
    "print(id(s))\n",
    "print(id(t))\n"
   ]
  },
  {
   "cell_type": "code",
   "execution_count": 28,
   "metadata": {},
   "outputs": [
    {
     "name": "stdout",
     "output_type": "stream",
     "text": [
      "3\n"
     ]
    }
   ],
   "source": [
    "#4-28\n",
    "#count()函数案例\n",
    "s='道可道，非常道。名可名，非常名。'\n",
    "sb='道'\n",
    "n=s.count(sb)\n",
    "print(n)\n"
   ]
  },
  {
   "cell_type": "code",
   "execution_count": 29,
   "metadata": {},
   "outputs": [
    {
     "name": "stdout",
     "output_type": "stream",
     "text": [
      "0四23四56四89元\n",
      "0四23456489元\n"
     ]
    }
   ],
   "source": [
    "#4-29\n",
    "#replace()函数案例\n",
    "s='0423456489元'.replace('4','四')\n",
    "print(s)\n",
    "s='0423456489元'.replace('4','四',1)\n",
    "print(s)\n"
   ]
  },
  {
   "cell_type": "code",
   "execution_count": 30,
   "metadata": {},
   "outputs": [
    {
     "name": "stdout",
     "output_type": "stream",
     "text": [
      "{48: 38646, 49: 19968, 50: 20108, 51: 19977, 52: 22235, 53: 20237, 54: 38470, 55: 26578, 56: 25420, 57: 29590, 20803: 22278}\n",
      "三二捌玖捌玖圆老王\n",
      "{22823: '宏伟的'}\n",
      "条条宏伟的路\n",
      "{48: 38646, 49: 19968, 50: 20108, 51: 19977, 52: 22235, 53: 20237, 54: 38470, 55: 26578, 56: 25420, 57: 29590, 20803: 22278, 32769: None, 29579: None}\n",
      "三二捌玖捌玖大\n"
     ]
    }
   ],
   "source": [
    "#4-30\n",
    "#字符串内容替换（翻译）演示代码。\n",
    "table = str.maketrans('0123456789元', '零一二三四伍陆柒捌玖圆')\n",
    "print(table)\n",
    "print('328989元老王'.translate(table))\n",
    "table = str.maketrans( {'大':'宏伟的'})\n",
    "print(table)\n",
    "print('条条大路'.translate(table))\n",
    "table = str.maketrans('0123456789元', '零一二三四伍陆柒捌玖圆','老王')\n",
    "print(table)\n",
    "print('328989大老王'.translate(table))"
   ]
  },
  {
   "cell_type": "code",
   "execution_count": 31,
   "metadata": {},
   "outputs": [
    {
     "name": "stdout",
     "output_type": "stream",
     "text": [
      "THE THREE MUSKETEERS by ALEXANDRE DUMAS\n"
     ]
    }
   ],
   "source": [
    "#4-31\n",
    "#按照执行顺序依次调用案例\n",
    "book_info = ' The Three Musketeers: Alexandre Dumas'\n",
    "formatted_book_info = book_info.strip().upper().replace(':',' by')\n",
    "print(formatted_book_info)\n"
   ]
  },
  {
   "cell_type": "code",
   "execution_count": 32,
   "metadata": {},
   "outputs": [
    {
     "name": "stdout",
     "output_type": "stream",
     "text": [
      "abcdefghijklmnopqrstuvwxyzABCDEFGHIJKLMNOPQRSTUVWXYZ\n",
      "!\"#$%&'()*+,-./:;<=>?@[\\]^_`{|}~\n",
      "0123456789\n"
     ]
    }
   ],
   "source": [
    "#4-32\n",
    "#常见字符编码转换函数案例\n",
    "import string\n",
    "print(string.ascii_letters)\n",
    "print(string.punctuation)\n",
    "print(string.digits)"
   ]
  },
  {
   "cell_type": "code",
   "execution_count": 33,
   "metadata": {},
   "outputs": [
    {
     "name": "stdout",
     "output_type": "stream",
     "text": [
      "使用字母、数字、特殊字符生成随机密码：\n",
      "10位密码：  YSde\\]u<$i\n",
      "8位密码： |y{cYRC8\n",
      "15位密码： RW5X\"'1?\\<'N6/B\n"
     ]
    }
   ],
   "source": [
    "#4-33\n",
    "#综合举例：n位随机密码的生成\n",
    "import random\n",
    "import string\n",
    "def randomPassword(length=10):\n",
    "    \"\"\"生成随机密码 \"\"\"\n",
    "\n",
    "    password_characters = string.ascii_letters + string.digits + string.punctuation\n",
    "    return ''.join(random.choices(password_characters,k=length) )\n",
    "\n",
    "print(\"使用字母、数字、特殊字符生成随机密码：\")\n",
    "print (\"10位密码： \", randomPassword())\n",
    "print (\"8位密码：\", randomPassword(8) )\n",
    "print (\"15位密码：\", randomPassword(15) )\n"
   ]
  },
  {
   "cell_type": "code",
   "execution_count": 34,
   "metadata": {},
   "outputs": [
    {
     "name": "stdout",
     "output_type": "stream",
     "text": [
      "bytearray(b'hello')\n",
      "bytearray(b'\\xe4\\xb8\\xad\\xe5\\x9b\\xbd')\n",
      "中国\n"
     ]
    }
   ],
   "source": [
    "#4-34\n",
    "#bytearray()函数案例\n",
    "print(bytearray('hello',encoding='utf-8'))\n",
    "print(bytearray('中国',encoding='utf-8'))\n",
    "print(bytearray('中国',encoding='utf-8').decode('utf-8'))"
   ]
  },
  {
   "cell_type": "code",
   "execution_count": 35,
   "metadata": {},
   "outputs": [
    {
     "name": "stdout",
     "output_type": "stream",
     "text": [
      "b'hello \\xe4\\xbd\\xa0\\xe5\\xa5\\xbd'\n",
      "b'hello \\xe4\\xbd\\xa0\\xe5\\xa5\\xbd'\n",
      "hello 你好\n",
      "bytearray(b'hello\\xe4\\xbd\\xa0\\xe5\\xbd')\n",
      "hello 你好 \n"
     ]
    }
   ],
   "source": [
    "#4-35\n",
    "#几种类型的相互转换\n",
    "a = bytes('hello 你好',encoding='utf-8')\n",
    "print(a)\n",
    "astr = 'hello 你好'.encode(encoding='utf-8')\n",
    "print(astr)\n",
    "print(bytes.decode(a))\n",
    "aa = bytearray('hello 你好 ',encoding=\"utf-8\")\n",
    "print(bytearray(b'hello\\xe4\\xbd\\xa0\\xe5\\xbd'))\n",
    "print(bytearray.decode(aa))"
   ]
  },
  {
   "cell_type": "code",
   "execution_count": 36,
   "metadata": {},
   "outputs": [
    {
     "name": "stdout",
     "output_type": "stream",
     "text": [
      "b'hello'\n"
     ]
    }
   ],
   "source": [
    "#4-36\n",
    "#tobytes()案例\n",
    "m = memoryview(b\"hello\")\n",
    "print(m.tobytes())"
   ]
  },
  {
   "cell_type": "code",
   "execution_count": 37,
   "metadata": {},
   "outputs": [
    {
     "name": "stdout",
     "output_type": "stream",
     "text": [
      "68656c6c6f\n"
     ]
    }
   ],
   "source": [
    "#4-37\n",
    "#hex()函数案例\n",
    "print(m.hex())"
   ]
  },
  {
   "cell_type": "code",
   "execution_count": 38,
   "metadata": {},
   "outputs": [
    {
     "data": {
      "text/plain": [
       "[104, 101, 108, 108, 111]"
      ]
     },
     "execution_count": 38,
     "metadata": {},
     "output_type": "execute_result"
    }
   ],
   "source": [
    "#4-38\n",
    "#tolist()函数案例\n",
    "memoryview(b'hello').tolist()"
   ]
  },
  {
   "cell_type": "code",
   "execution_count": 39,
   "metadata": {},
   "outputs": [
    {
     "name": "stdout",
     "output_type": "stream",
     "text": [
      "b'hello \\xe4\\xbd\\xa0\\xe5\\xa5\\xbd'\n",
      "104\n",
      "189\n",
      "[104, 101, 108, 108, 111, 32, 228, 189, 160, 229, 165, 189]\n"
     ]
    }
   ],
   "source": [
    "#4-39\n",
    "#使用memoryview()演示对bytes对象字节的访问\n",
    "a = 'hello 你好'.encode('utf-8')\n",
    "print(a)\n",
    "v = memoryview(a)\n",
    "print(v[0])\n",
    "print(v[-1])\n",
    "print(v.tolist())"
   ]
  },
  {
   "cell_type": "code",
   "execution_count": 40,
   "metadata": {},
   "outputs": [
    {
     "name": "stdout",
     "output_type": "stream",
     "text": [
      "[6, 11, 24, 1, 14, 33, 10, 13, 15, 7, 20, 16, 26, 9, 27, 12, 22, 5, 30, 32, 2, 31, 17, 25, 18, 28, 19, 8, 3, 4, 21, 23, 29]\n",
      "[5, 13, 2, 15, 3, 6, 4, 7, 14, 16, 11, 10, 8, 9, 1, 12]\n",
      "[8, 12, 32, 9, 26, 32]\n",
      "[5]\n",
      "set()\n",
      "0\n",
      "0\n"
     ]
    }
   ],
   "source": [
    "#4-40\n",
    "#使用随机函数与集合运算，模拟福利彩票双色球，投注与开奖。\n",
    "import random\n",
    "redBall = list(range(1,34))\n",
    "blueBall = list(range(1,17))\n",
    "random.shuffle(redBall)\n",
    "print(redBall)\n",
    "random.shuffle(blueBall)\n",
    "print(blueBall)\n",
    "# 个人投注红球6个数字\n",
    "myRedBallChoice=random.choices(redBall,k=6)\n",
    "print(myRedBallChoice)\n",
    "\n",
    "# 个人投注篮球1个数字\n",
    "myBlueBallChoice=random.choices(blueBall,k=1)\n",
    "print(myBlueBallChoice)\n",
    "#开奖6个红球数字\n",
    "kjRedBallChoice=random.choices(redBall,k=6)\n",
    "#开奖1个蓝球数字\n",
    "kjBlueBallChoice=random.choices(blueBall,k=1)\n",
    "#检查 红球、篮球中奖情况（利用集合求交集）\n",
    "judgeRedBall=set(myRedBallChoice)&set(kjRedBallChoice)\n",
    "judgeBlueBall=set(myBlueBallChoice)&set(kjBlueBallChoice)\n",
    "\n",
    "print(judgeRedBall)\n",
    "print(len(judgeRedBall))\n",
    "judgeBlueBall\n",
    "print(len(judgeBlueBall))\n",
    "\n"
   ]
  },
  {
   "cell_type": "code",
   "execution_count": 41,
   "metadata": {},
   "outputs": [
    {
     "name": "stdout",
     "output_type": "stream",
     "text": [
      "{'one': 11, 'two': 22, 'three': 33}\n",
      "{'one': 11, 'two': 22, 'three': 33}\n",
      "{'one': 11, 'two': 22, 'three': 33}\n",
      "{'two': 22, 'one': 11, 'three': 33}\n",
      "{'three': 33, 'one': 11, 'two': 22}\n"
     ]
    }
   ],
   "source": [
    "#4-41\n",
    "#dict()函数案例\n",
    "a = dict(one=11, two=22, three=33)\n",
    "b = {'one': 11, 'two': 22, 'three': 33}\n",
    "c = dict(zip(['one', 'two', 'three'], [11, 22,33]))\n",
    "d = dict([('two', 22), ('one', 11), ('three', 33)])\n",
    "e = dict({'three': 33, 'one': 11, 'two': 22})\n",
    "print(a,b,c,d,e,sep='\\n')\n"
   ]
  },
  {
   "cell_type": "code",
   "execution_count": 42,
   "metadata": {},
   "outputs": [
    {
     "name": "stdout",
     "output_type": "stream",
     "text": [
      "{0: 'h', 1: 'e', 2: 'l', 3: 'l', 4: 'o'}\n",
      "{0: 'w', 1: 'o', 2: 'r', 3: 'l', 4: 'd'}\n",
      "{0: 'w', 1: 'o', 2: 'r', 3: 'l', 4: 'd'}\n",
      "{1: 'a', 2: 'd', 3: 'c', 4: 'e'}\n",
      "{'a': 'Python Developer', 'b': 'Python Developer', 'c': 'Python Developer'}\n"
     ]
    }
   ],
   "source": [
    "#4-42\n",
    "#字典相关的函数演示\n",
    "s1,s2='hello','world'\n",
    "d1=dict(zip(range(len(s1)),list(s1)))\n",
    "d2=dict(zip(range(len(s2)),list(s2)))\n",
    "print(d1)\n",
    "print(d2)\n",
    "d1.update(d2)\n",
    "print(d1)\n",
    "#字典合并\n",
    "currentEmployee = {1: 'a', 2: \"b\", 3:\"c\"}\n",
    "formerEmployee  = {2: 'd', 4: \"e\"}\n",
    "print({**currentEmployee,**formerEmployee})\n",
    "#由Key创建函数\n",
    "employees = ['a', 'b', 'c']\n",
    "defaults = 'Python Developer'\n",
    "resDict = dict.fromkeys(employees, defaults)\n",
    "print(resDict)\n"
   ]
  },
  {
   "cell_type": "code",
   "execution_count": 43,
   "metadata": {},
   "outputs": [
    {
     "name": "stdout",
     "output_type": "stream",
     "text": [
      "{'c': 4, 'b': 12, 'f': 100, 'a': 4, 'e': 33}\n"
     ]
    }
   ],
   "source": [
    "#4-43\n",
    "#集合与字典综合应用示例。实现两个字典对应key的值相加，不同key值保留。\n",
    "d1=dict(a=1,b=3,c=4)\n",
    "d2=dict(a=3,b=9,e=33,f=100)\n",
    "keySet=d1.keys()|d2.keys()\n",
    "dic=dict()\n",
    "for key in keySet:\n",
    "       dic[key]=d1.get(key,0)+d2.get(key,0)\n",
    "print(dic)\n"
   ]
  },
  {
   "cell_type": "code",
   "execution_count": 44,
   "metadata": {},
   "outputs": [
    {
     "data": {
      "text/plain": [
       "{'b': 2, 'c': 1}"
      ]
     },
     "execution_count": 44,
     "metadata": {},
     "output_type": "execute_result"
    }
   ],
   "source": [
    "#4-44\n",
    "#字典的key改名\n",
    "q={'a':1, 'b':2}\n",
    "q[\"c\"] = q.pop(\"a\")\n",
    "q\n",
    "\n"
   ]
  },
  {
   "cell_type": "code",
   "execution_count": 45,
   "metadata": {},
   "outputs": [
    {
     "name": "stdout",
     "output_type": "stream",
     "text": [
      "((1, 'hello', 'bb', 'h'), (2, 'good', 'aa', 'e'), (3, 'china', 'cc', 'l'))\n",
      "{1: 'hello', 2: 'good', 3: 'china', 4: 'shanghai'}\n",
      "{(2, 'good', 'aa'), (1, 'hello', 'bb'), (3, 'china', 'cc')}\n",
      "((1, 'hello', 'bb'), (2, 'good', 'aa'), (3, 'china', 'cc'))\n",
      "[(1, 'hello', 'bb'), (2, 'good', 'aa'), (3, 'china', 'cc')]\n"
     ]
    }
   ],
   "source": [
    "#4-45\n",
    "#zip()函数代码演示\n",
    "a=[1,2,3,4,5,6]\n",
    "b=('hello','good','china','shanghai')\n",
    "c={'aa','bb','cc'}\n",
    "e = {'h','e','l','o'}\n",
    "d=zip(a,b,c,e)\n",
    "print(tuple(d))\n",
    "d=zip(a,b) \n",
    "print(dict(d))\n",
    "d=zip(a,b,c) \n",
    "print(set(d))\n",
    "d=zip(a,b,c)\n",
    "print(tuple(d))\n",
    "d=zip(a,b,c)\n",
    "print(list(d))\n"
   ]
  },
  {
   "cell_type": "code",
   "execution_count": 46,
   "metadata": {},
   "outputs": [
    {
     "name": "stdout",
     "output_type": "stream",
     "text": [
      "3\n",
      "4\n"
     ]
    }
   ],
   "source": [
    "#4-46\n",
    "#namedtuple()案例\n",
    "from collections import namedtuple\n",
    "Point = namedtuple('Point', ['x', 'y'])\n",
    "p = Point(3, 4)\n",
    "print(p.x)\n",
    "print(p.y)\n"
   ]
  },
  {
   "cell_type": "code",
   "execution_count": 47,
   "metadata": {},
   "outputs": [
    {
     "data": {
      "text/plain": [
       "deque(['y', 'a1', 'b2', 'c3', 'x'])"
      ]
     },
     "execution_count": 47,
     "metadata": {},
     "output_type": "execute_result"
    }
   ],
   "source": [
    "#4-47\n",
    "#deque案例\n",
    "from collections import deque\n",
    "q = deque(['a1', 'b2', 'c3'])\n",
    "q.append('x')\n",
    "q.appendleft('y')\n",
    "q\n",
    "#deque除了实现list的append()和pop()外，\n",
    "#还支持appendleft()和popleft()，这样就可以非常高效地往头部添加或删除元素。"
   ]
  },
  {
   "cell_type": "code",
   "execution_count": 48,
   "metadata": {},
   "outputs": [
    {
     "name": "stdout",
     "output_type": "stream",
     "text": [
      "Counter({' ': 3, 'a': 3, 'e': 2, 'I': 1, 'h': 1, 'v': 1, 'd': 1, 'r': 1, 'm': 1})\n",
      "Counter({' ': 6, 'a': 6, 'e': 5, 'h': 3, 'r': 3, 'v': 2, 'd': 2, 'm': 2, 'o': 2, 'I': 1, 'y': 1, 'u': 1, 'n': 1, 't': 1})\n"
     ]
    }
   ],
   "source": [
    "#4-48\n",
    "#counter案例\n",
    "import collections\n",
    "a=collections.Counter('I have a dream')\n",
    "print(a)\n",
    "a.update('you have another dream')\n",
    "print(a)\n"
   ]
  },
  {
   "cell_type": "code",
   "execution_count": 49,
   "metadata": {},
   "outputs": [
    {
     "name": "stdout",
     "output_type": "stream",
     "text": [
      "1\n",
      "2\n",
      "x\n"
     ]
    }
   ],
   "source": [
    "#4-49\n",
    "#itertools案例\n",
    "from itertools import chain\n",
    "a = [1, 2]\n",
    "b = ['x']\n",
    "for x in chain(a, b):\n",
    "    print(x)\n"
   ]
  },
  {
   "cell_type": "code",
   "execution_count": null,
   "metadata": {},
   "outputs": [],
   "source": []
  }
 ],
 "metadata": {
  "kernelspec": {
   "display_name": "Python 3",
   "language": "python",
   "name": "python3"
  },
  "language_info": {
   "codemirror_mode": {
    "name": "ipython",
    "version": 3
   },
   "file_extension": ".py",
   "mimetype": "text/x-python",
   "name": "python",
   "nbconvert_exporter": "python",
   "pygments_lexer": "ipython3",
   "version": "3.7.0"
  }
 },
 "nbformat": 4,
 "nbformat_minor": 4
}
