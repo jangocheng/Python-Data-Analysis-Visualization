{
 "cells": [
  {
   "cell_type": "markdown",
   "metadata": {},
   "source": [
    "# 【例7-1】Python内置三种标准的输入、输出流代码示例"
   ]
  },
  {
   "cell_type": "code",
   "execution_count": 14,
   "metadata": {},
   "outputs": [
    {
     "name": "stdout",
     "output_type": "stream",
     "text": [
      "hello"
     ]
    },
    {
     "name": "stderr",
     "output_type": "stream",
     "text": [
      "hello"
     ]
    }
   ],
   "source": [
    "import sys\n",
    "s=sys.stdin.read(10)\n",
    "s\n",
    "so=sys.stdout.write('hello')\n",
    "sys.stderr.write('hello')"
   ]
  },
  {
   "cell_type": "markdown",
   "metadata": {},
   "source": [
    "# 以下代码演示，利用Python系统的help()函数，提取sys模块的帮助信息到文本文件help.txt。"
   ]
  },
  {
   "cell_type": "code",
   "execution_count": 15,
   "metadata": {},
   "outputs": [],
   "source": [
    "import sys\n",
    "sys.stdout=open('help.txt','w')\n",
    "help(sys)"
   ]
  },
  {
   "cell_type": "markdown",
   "metadata": {},
   "source": [
    "# 【例7-2】将“hello world”写入文件。"
   ]
  },
  {
   "cell_type": "code",
   "execution_count": 17,
   "metadata": {},
   "outputs": [],
   "source": [
    "f = open(\"my_file.txt\", 'w')\n",
    "f.write(\"hello world\")\n",
    "#或可以直接将print()函数的输出定向为文件。\n",
    "print('hello world',file=open('ok.txt','w'))"
   ]
  },
  {
   "cell_type": "markdown",
   "metadata": {},
   "source": [
    "# Python文件异常捕获的两种方法："
   ]
  },
  {
   "cell_type": "markdown",
   "metadata": {},
   "source": [
    "## 方法一：使用 try...finally 语句来捕获异常："
   ]
  },
  {
   "cell_type": "code",
   "execution_count": null,
   "metadata": {},
   "outputs": [],
   "source": [
    "try:\n",
    "    f = open('/path/to/file', 'r')\n",
    "    print(f.read())\n",
    "finally:\n",
    "    if f:\n",
    "        f.close()"
   ]
  },
  {
   "cell_type": "markdown",
   "metadata": {},
   "source": [
    "## 方法二：使用with语句进行文件的上下文管理："
   ]
  },
  {
   "cell_type": "code",
   "execution_count": 2,
   "metadata": {},
   "outputs": [],
   "source": [
    "#文件写操作\n",
    "with open('test.txt', 'w', encoding='utf-8') as f:\n",
    "    f.write('test')\n",
    "#文件读操作\n",
    "with open('test.txt', 'r', encoding='utf-8') as f:\n",
    "    f.readlines()"
   ]
  },
  {
   "cell_type": "markdown",
   "metadata": {},
   "source": [
    "# 【例7-3】文件的创建，写操作、读操作、追加操作代码示例。"
   ]
  },
  {
   "cell_type": "code",
   "execution_count": 3,
   "metadata": {},
   "outputs": [
    {
     "name": "stdout",
     "output_type": "stream",
     "text": [
      "文件读位置: 0\n",
      "这里演示文件的创建！\n",
      "文件读位置: 30\n",
      "以及相关函数的使用和功能!!!\n",
      "这里演示文件的创建！以及相关函数的使用和功能!!!\n",
      "\n",
      "这里演示文件的创建！以及相关函数的使用和功能!!!\n",
      "这里演示文件的创建！以及相关函数的使用和功能!!!\n",
      "hello world!!!\n",
      "\n"
     ]
    }
   ],
   "source": [
    "with open('demo.txt','w',encoding='utf-8') as f:\n",
    "    f.write(\"这里演示文件的创建！以及相关函数的使用和功能!!!\\n\"*2)\n",
    "    \n",
    "with open('demo.txt','r',encoding='utf-8') as f:\n",
    "    print('文件读位置:',f.tell())\n",
    "    s1=f.read(10)\n",
    "    print(s1)\n",
    "    print('文件读位置:',f.tell())\n",
    "    print(f.read())\n",
    "    \n",
    "with open('demo.txt','a+',encoding='utf-8') as f:\n",
    "     f.write(\"hello world!!!\\n\")\n",
    "    \n",
    "with open('demo.txt',encoding='utf-8') as f:\n",
    "    print(f.read()) "
   ]
  },
  {
   "cell_type": "markdown",
   "metadata": {},
   "source": [
    "# 【例7-4】实现一个简单的类似数据库，并实现增、删、改、查、遍历功能。"
   ]
  },
  {
   "cell_type": "markdown",
   "metadata": {},
   "source": [
    "## 保存数据"
   ]
  },
  {
   "cell_type": "code",
   "execution_count": 4,
   "metadata": {},
   "outputs": [],
   "source": [
    "import shelve\n",
    "with shelve.open('test_shelf.db') as w:        #\n",
    "    w['abc'] = {'age': 10, 'float': 9.5, 'String': 'china'}\n",
    "    w['efg'] = [1, 2, 3]"
   ]
  },
  {
   "cell_type": "markdown",
   "metadata": {},
   "source": [
    "## 查找数据"
   ]
  },
  {
   "cell_type": "code",
   "execution_count": 5,
   "metadata": {},
   "outputs": [
    {
     "name": "stdout",
     "output_type": "stream",
     "text": [
      "{'age': 10, 'float': 9.5, 'String': 'china'}\n",
      "[1, 2, 3]\n"
     ]
    }
   ],
   "source": [
    "with shelve.open('test_shelf.db') as r:        #\n",
    "    print(r['abc'])\n",
    "    print(r['efg'])"
   ]
  },
  {
   "cell_type": "markdown",
   "metadata": {},
   "source": [
    "## 删除、插入、更新数据"
   ]
  },
  {
   "cell_type": "code",
   "execution_count": 6,
   "metadata": {},
   "outputs": [],
   "source": [
    "with shelve.open('test_shelf.db', flag='w', writeback=True) as dm:\n",
    "    del dm['abc']\n",
    "    dm['gre'] = [99879, 2, 3]\n",
    "    dm['efg'] = \"thi is a test\".split()"
   ]
  },
  {
   "cell_type": "markdown",
   "metadata": {},
   "source": [
    "## 遍历数据"
   ]
  },
  {
   "cell_type": "code",
   "execution_count": 7,
   "metadata": {},
   "outputs": [
    {
     "name": "stdout",
     "output_type": "stream",
     "text": [
      "efg ['thi', 'is', 'a', 'test']\n",
      "gre [99879, 2, 3]\n"
     ]
    }
   ],
   "source": [
    "with shelve.open('test_shelf.db') as s: \n",
    "    for key, value in s.items():\n",
    "        print(key, value)"
   ]
  },
  {
   "cell_type": "markdown",
   "metadata": {},
   "source": [
    "# 【例7-5】Pickle 模块中dumps（）与loads（）代码演示。"
   ]
  },
  {
   "cell_type": "code",
   "execution_count": 8,
   "metadata": {},
   "outputs": [
    {
     "name": "stdout",
     "output_type": "stream",
     "text": [
      "b'\\x80\\x04\\x95&\\x00\\x00\\x00\\x00\\x00\\x00\\x00\\x8c\\x15Success@shnu.edu.cn!!\\x94\\x8f\\x94(K\\x01K\\x02K\\x03\\x90\\x88\\x87\\x94.'\n",
      "b'\\x80\\x04\\x95\\x13\\x00\\x00\\x00\\x00\\x00\\x00\\x00\\x8c\\x08__main__\\x94\\x8c\\x02hi\\x94\\x93\\x94.'\n"
     ]
    }
   ],
   "source": [
    "import pickle\n",
    "tup1 = ('Success@shnu.edu.cn!!', {1,2,3}, True)\n",
    "#使用 dumps() 函数将 tup1 转成 p1\n",
    "p1 = pickle.dumps(tup1)\n",
    "def hi(name):\n",
    "    print('hello'+name)\n",
    "\n",
    "#使用 dumps() 函数将 函数hi 转成 p2\n",
    "p2 = pickle.dumps(hi)\n",
    "print(p1)\n",
    "print(p2)"
   ]
  },
  {
   "cell_type": "markdown",
   "metadata": {},
   "source": [
    "# 【例7-6】Pickle 模块中dump（）与load（）代码演示。"
   ]
  },
  {
   "cell_type": "code",
   "execution_count": 10,
   "metadata": {},
   "outputs": [
    {
     "name": "stdout",
     "output_type": "stream",
     "text": [
      "b'\\x80\\x04\\x95&\\x00\\x00\\x00\\x00\\x00\\x00\\x00\\x8c\\x15Success@shnu.edu.cn!!\\x94\\x8f\\x94(K\\x01K\\x02K\\x03\\x90\\x88\\x87\\x94.'\n",
      "b'\\x80\\x04\\x95\\x13\\x00\\x00\\x00\\x00\\x00\\x00\\x00\\x8c\\x08__main__\\x94\\x8c\\x02hi\\x94\\x93\\x94.'\n",
      "('Success@shnu.edu.cn!!', {1, 2, 3}, True)\n",
      "hello I like china\n"
     ]
    }
   ],
   "source": [
    "import pickle\n",
    "tup1 = ('Success@shnu.edu.cn!!', {1,2,3}, True)\n",
    "#使用 dumps() 函数将 tup1 转成 p1\n",
    "p1 = pickle.dumps(tup1)\n",
    "def hi(name):\n",
    "    print('hello'+name)\n",
    "\n",
    "#使用 dumps() 函数将 函数hi 转成 p2\n",
    "p2 = pickle.dumps(hi)\n",
    "print(p1)\n",
    "print(p2)\n",
    "t1=pickle.loads(p1)\n",
    "t2 = pickle.loads(p2)\n",
    "\n",
    "print(t1)\n",
    "t2(' I like china')"
   ]
  },
  {
   "cell_type": "markdown",
   "metadata": {},
   "source": [
    "# 【例7-7】Pickle 模块中dump（）代码演示。"
   ]
  },
  {
   "cell_type": "code",
   "execution_count": 12,
   "metadata": {},
   "outputs": [],
   "source": [
    "import pickle\n",
    "tup1 = ('Success@shnu.edu.cn!!', {1,2,3}, True)\n",
    "def hi(name):\n",
    "    print('hello'+name)\n",
    "with open (\"a.txt\", 'wb') as f: #打开文件\n",
    "    #使用 dumps() 函数将 tup1 转成 p1\n",
    "    p1 = pickle.dump(tup1,f)\n",
    "    #使用 dumps() 函数将 函数hi 转成 p2\n",
    "    p2 = pickle.dump(hi,f)    \n",
    "    pickle.dump(tup1, f) #用 dump 函数将 Python 对象转成二进制对象文件"
   ]
  },
  {
   "cell_type": "markdown",
   "metadata": {},
   "source": [
    "# 【例7-8】Pickle 模块中load（）代码演示。"
   ]
  },
  {
   "cell_type": "code",
   "execution_count": 14,
   "metadata": {},
   "outputs": [
    {
     "name": "stdout",
     "output_type": "stream",
     "text": [
      "('Success@shnu.edu.cn!!', {1, 2, 3}, True)\n",
      "hello from China!!\n"
     ]
    }
   ],
   "source": [
    "import pickle\n",
    "tup1 = ('Success@shnu.edu.cn!!', {1,2,3}, True)\n",
    "def hi(name):\n",
    "    print('hello'+name)\n",
    "with open (\"a.txt\", 'wb') as f: #打开文件\n",
    "    #使用 dumps() 函数将 tup1 转成 p1\n",
    "    p1 = pickle.dump(tup1,f)\n",
    "    #使用 dumps() 函数将 函数hi 转成 p2\n",
    "    p2 = pickle.dump(hi,f)\n",
    "with open (\"a.txt\", 'rb') as f: #打开文件\n",
    "    t3 = pickle.load(f) #将二进制文件对象转换成 Python 对象\n",
    "    t4=pickle.load(f)\n",
    "    print(t3)\n",
    "    t4(' from China!!')    "
   ]
  },
  {
   "cell_type": "markdown",
   "metadata": {},
   "source": [
    "# 【例7-9】把 Python对象转换为JSON数据格式（字符串）。"
   ]
  },
  {
   "cell_type": "code",
   "execution_count": 15,
   "metadata": {},
   "outputs": [
    {
     "name": "stdout",
     "output_type": "stream",
     "text": [
      "<class 'str'>\n",
      "{\"name\": \"zhang\", \"age\": 33, \"city\": \"shanghai\"}\n"
     ]
    }
   ],
   "source": [
    "import json\n",
    "# Python 对象（字典）：\n",
    "x = {\n",
    "  \"name\": \"zhang\",\n",
    "  \"age\": 33,\n",
    "  \"city\": \"shanghai\"\n",
    "}\n",
    "# 转换为 JSON：\n",
    "y = json.dumps(x)\n",
    "print(type(y))\n",
    "print(y)"
   ]
  },
  {
   "cell_type": "markdown",
   "metadata": {},
   "source": [
    "# 【例7-10】把JSON数据（字符串）转换为Python对象。"
   ]
  },
  {
   "cell_type": "code",
   "execution_count": 16,
   "metadata": {},
   "outputs": [
    {
     "name": "stdout",
     "output_type": "stream",
     "text": [
      "<class 'dict'>\n",
      "{'name': 'zhang', 'age': 33, 'city': 'shanghai'}\n"
     ]
    }
   ],
   "source": [
    "import json\n",
    "\n",
    "# 一些 JSON:\n",
    "x =  '{ \"name\":\"zhang\", \"age\":33, \"city\":\"shanghai\"}'\n",
    "\n",
    "# 解析 x:\n",
    "y = json.loads(x)\n",
    "print(type(y))\n",
    "print(y)"
   ]
  },
  {
   "cell_type": "markdown",
   "metadata": {},
   "source": [
    "# 【例7-11】把 Python对象转换为JSON数据格式保存到文件。"
   ]
  },
  {
   "cell_type": "code",
   "execution_count": 17,
   "metadata": {},
   "outputs": [],
   "source": [
    "import json\n",
    "\n",
    "# Python 对象（字典）：\n",
    "x = {\n",
    "  \"name\": \"zhang\",\n",
    "  \"age\": 33,\n",
    "  \"city\": \"shanghai\"\n",
    "}\n",
    "\n",
    "with open(\"record.json\",\"w\") as dump_f:\n",
    "    json.dump(x,dump_f)"
   ]
  },
  {
   "cell_type": "markdown",
   "metadata": {},
   "source": [
    "# 【例7-12】把JSON数据格式文件转换为Python对象。"
   ]
  },
  {
   "cell_type": "code",
   "execution_count": 18,
   "metadata": {},
   "outputs": [
    {
     "name": "stdout",
     "output_type": "stream",
     "text": [
      "<class 'dict'>\n",
      "{'name': 'zhang', 'age': 33, 'city': 'shanghai'}\n"
     ]
    }
   ],
   "source": [
    "import json\n",
    "with open(\"record.json\",'r') as load_f:\n",
    "    load_dict = json.load(load_f)\n",
    "    print(type(load_dict))\n",
    "    print(load_dict)"
   ]
  },
  {
   "cell_type": "markdown",
   "metadata": {},
   "source": [
    "# 操作系统相关文件操作"
   ]
  },
  {
   "cell_type": "markdown",
   "metadata": {},
   "source": [
    "## 7.6.1.1 遍历文件夹内的文件与目录。"
   ]
  },
  {
   "cell_type": "code",
   "execution_count": 19,
   "metadata": {},
   "outputs": [],
   "source": [
    "#方法一:os.listdir()\n",
    "import os\n",
    "os.listdir()\n",
    "entries = os.listdir('c:/')"
   ]
  },
  {
   "cell_type": "code",
   "execution_count": 20,
   "metadata": {},
   "outputs": [
    {
     "name": "stdout",
     "output_type": "stream",
     "text": [
      "Directory:  $360Section\n",
      "Directory:  $Recycle.Bin\n",
      "Directory:  360Safe\n",
      "Directory:  360SANDBOX\n",
      "File:  72296.dll\n",
      "File:  a.txt\n",
      "File:  bootmgr\n",
      "File:  BOOTNXT\n",
      "Directory:  defaults\n",
      "Directory:  Documents and Settings\n",
      "Directory:  Driver\n",
      "File:  hiberfil.sys\n",
      "Directory:  inetpub\n",
      "File:  InstallConfig.ini\n",
      "Directory:  Intel\n",
      "Directory:  MSOCache\n",
      "Directory:  MyDrivers\n",
      "Directory:  NVIDIA\n",
      "File:  pagefile.sys\n",
      "Directory:  PerfLogs\n",
      "Directory:  Program Files\n",
      "Directory:  Program Files (x86)\n",
      "Directory:  ProgramData\n",
      "Directory:  QMDownload\n",
      "Directory:  Recovery\n",
      "Directory:  safemon\n",
      "File:  swapfile.sys\n",
      "Directory:  System Volume Information\n",
      "Directory:  Temp\n",
      "Directory:  tmp\n",
      "File:  uninstall.log\n",
      "File:  uninstall.txt\n",
      "Directory:  Users\n",
      "Directory:  Windows\n",
      "Directory:  XBGhost\n",
      "File:  xb_log.txt\n",
      "File:  xmlrpc_error.log\n",
      "File:  xubei_log.txt\n"
     ]
    }
   ],
   "source": [
    "#方法二:os.scandir()\n",
    "import os\n",
    "with os.scandir('c:/') as entries:\n",
    "    for entry in entries:\n",
    "        if entry.is_file():\n",
    "            print(\"File: \",entry.name)\n",
    "        else:\n",
    "            print(\"Directory: \",entry.name)"
   ]
  },
  {
   "cell_type": "code",
   "execution_count": 21,
   "metadata": {},
   "outputs": [
    {
     "name": "stdout",
     "output_type": "stream",
     "text": [
      "Directory:  $360Section\n",
      "Directory:  $Recycle.Bin\n",
      "Directory:  360Safe\n",
      "Directory:  360SANDBOX\n",
      "File:  72296.dll\n",
      "File:  a.txt\n",
      "File:  bootmgr\n",
      "File:  BOOTNXT\n",
      "Directory:  defaults\n",
      "Directory:  Documents and Settings\n",
      "Directory:  Driver\n",
      "File:  hiberfil.sys\n",
      "Directory:  inetpub\n",
      "File:  InstallConfig.ini\n",
      "Directory:  Intel\n",
      "Directory:  MSOCache\n",
      "Directory:  MyDrivers\n",
      "Directory:  NVIDIA\n",
      "File:  pagefile.sys\n",
      "Directory:  PerfLogs\n",
      "Directory:  Program Files\n",
      "Directory:  Program Files (x86)\n",
      "Directory:  ProgramData\n",
      "Directory:  QMDownload\n",
      "Directory:  Recovery\n",
      "Directory:  safemon\n",
      "File:  swapfile.sys\n",
      "Directory:  System Volume Information\n",
      "Directory:  Temp\n",
      "Directory:  tmp\n",
      "File:  uninstall.log\n",
      "File:  uninstall.txt\n",
      "Directory:  Users\n",
      "Directory:  Windows\n",
      "Directory:  XBGhost\n",
      "File:  xb_log.txt\n",
      "File:  xmlrpc_error.log\n",
      "File:  xubei_log.txt\n"
     ]
    }
   ],
   "source": [
    "#方法三：用pathlib 模块获取目录和文件列表。\n",
    "from pathlib import Path\n",
    "entries = Path('c:/')\n",
    "for entry in entries.iterdir():\n",
    "        if entry.is_file():\n",
    "            print(\"File: \",entry.name)\n",
    "        else:\n",
    "            print(\"Directory: \",entry.name)"
   ]
  },
  {
   "cell_type": "code",
   "execution_count": 22,
   "metadata": {},
   "outputs": [
    {
     "name": "stdout",
     "output_type": "stream",
     "text": [
      "Found directory: .\n",
      "2020年全国大学生英语竞赛通知（新）.pdf\n",
      "a.txt\n",
      "Anaconda3-2020.07-Windows-x86_64.exe\n",
      "BaiduNetdisk_7.0.6.11.exe\n",
      "BlockMirror-master.zip\n",
      "debug.log\n",
      "demo.txt\n",
      "Evernote_6.21.10.2263.exe\n",
      "help.txt\n",
      "inst.exe\n",
      "my_file.txt\n",
      "ok.txt\n",
      "pandas practice.ipynb\n",
      "record.json\n",
      "setup_12.0.0.2003o.exe\n",
      "skulpt-dist-master.zip\n",
      "test.txt\n",
      "test_shelf.db.bak\n",
      "test_shelf.db.dat\n",
      "test_shelf.db.dir\n",
      "uk_rain_2014.csv\n",
      "Untitled.ipynb\n",
      "Untitled1.ipynb\n",
      "Untitled2.ipynb\n",
      "Untitled3.ipynb\n",
      "中国共产党土地政策的更改和国民党的内部腐败_大雅PDF报告.pdf\n",
      "中国共产党土地政策的更改和国民党的内部腐败_大雅检测报告.zip\n",
      "全文对比.html\n",
      "半角空格降重使用说明.docx\n",
      "思政论文_大雅PDF报告.pdf\n",
      "思政论文_大雅检测报告 (1).zip\n",
      "相似片段.html\n",
      "第七章 文件与输入输出.ipynb\n",
      "第五章 程序控制流与异常处理.ipynb\n",
      "第六章 函数及其高级应用.ipynb\n",
      "综合评估.html\n",
      "论文1_大雅检测报告.zip\n",
      "Found directory: .\\.ipynb_checkpoints\n",
      "pandas practice-checkpoint.ipynb\n",
      "Untitled-checkpoint.ipynb\n",
      "Untitled1-checkpoint.ipynb\n",
      "Untitled2-checkpoint.ipynb\n",
      "Untitled3-checkpoint.ipynb\n",
      "第七章 文件与输入输出-checkpoint.ipynb\n",
      "第五章 程序控制流与异常处理-checkpoint.ipynb\n",
      "第六章 函数及其高级应用-checkpoint.ipynb\n",
      "Found directory: .\\skulpt-dist-master\n",
      ".bowerrc\n",
      "bower.json\n",
      "debugger.js\n",
      "README.md\n",
      "skulpt-stdlib.js\n",
      "skulpt.es5.min.js\n",
      "skulpt.js\n",
      "skulpt.min.js\n",
      "Found directory: .\\static\n",
      "Found directory: .\\static\\css\n",
      "allTextCompare.css\n",
      "common.css\n",
      "comprehensive.css\n",
      "similarPieces.css\n",
      "Found directory: .\\static\\images\n",
      "blueArr.png\n",
      "dayaicon.png\n",
      "down.png\n",
      "logo.png\n",
      "QR_code.jpg\n",
      "up.png\n",
      "Found directory: .\\static\\js\n",
      "allTextCompare.js\n",
      "header.js\n",
      "jquery.min.js\n",
      "progressBar.js\n",
      "Found directory: .\\歌曲\n",
      "一路向北.m4a\n",
      "不能说的秘密.m4a\n",
      "园游会.m4a\n",
      "彩虹+轨迹.m4a\n",
      "晴天.m4a\n",
      "蒲公英的约定.m4a\n",
      "说的幸福呢+安静.m4a\n"
     ]
    }
   ],
   "source": [
    "# 方法四：os.walk() 列出目录树中的所有文件和目录。\n",
    "import os \n",
    "for dirpath, dirname, files in os.walk('.'): \n",
    "    print(f'Found directory: {dirpath}') \n",
    "    for file_name in files: \n",
    "        print(file_name)"
   ]
  },
  {
   "cell_type": "markdown",
   "metadata": {},
   "source": [
    "## 7.6.1.2 创建目录os.makedirs()"
   ]
  },
  {
   "cell_type": "code",
   "execution_count": 23,
   "metadata": {},
   "outputs": [],
   "source": [
    "import os\n",
    "os.mkdir('c:/ok')\n",
    "#创建多级目录\n",
    "import os\n",
    "os.makedirs('c:/ok/ok2')"
   ]
  },
  {
   "cell_type": "markdown",
   "metadata": {},
   "source": [
    "## 7.6.1.3 删除文件os.remove()"
   ]
  },
  {
   "cell_type": "code",
   "execution_count": null,
   "metadata": {},
   "outputs": [],
   "source": [
    "import os\n",
    "data_file = 'C:/ok.txt'\n",
    "os.remove(data_file)"
   ]
  },
  {
   "cell_type": "markdown",
   "metadata": {},
   "source": [
    "## 7.6.1.4 重命名文件和目录os.rename()"
   ]
  },
  {
   "cell_type": "code",
   "execution_count": null,
   "metadata": {},
   "outputs": [],
   "source": [
    "import os\n",
    "os.rename('first.zip', 'first_01.zip')"
   ]
  },
  {
   "cell_type": "markdown",
   "metadata": {},
   "source": [
    "## 7.6.1.5 文件通配符查找glob.glob()"
   ]
  },
  {
   "cell_type": "code",
   "execution_count": null,
   "metadata": {},
   "outputs": [],
   "source": [
    "import glob\n",
    "print(glob.glob('*.py'))"
   ]
  },
  {
   "cell_type": "markdown",
   "metadata": {},
   "source": [
    "## 7.6.1.6 复制文件和目录shutil.copy()"
   ]
  },
  {
   "cell_type": "code",
   "execution_count": null,
   "metadata": {},
   "outputs": [],
   "source": [
    "import shutil\n",
    "src = 'path/to/file.txt'\n",
    "dst = 'path/to/dest_dir'\n",
    "shutil.copy(src, dst)"
   ]
  },
  {
   "cell_type": "markdown",
   "metadata": {},
   "source": [
    "## 7.6.1.7 移动文件和目录shutil.move(src，dst)"
   ]
  },
  {
   "cell_type": "code",
   "execution_count": null,
   "metadata": {},
   "outputs": [],
   "source": [
    "import shutil\n",
    "dst = shutil.move('dir_1/', 'backup/')\n",
    "print(dst) # 'backup'"
   ]
  }
 ],
 "metadata": {
  "kernelspec": {
   "display_name": "Python [conda env:root] *",
   "language": "python",
   "name": "conda-root-py"
  },
  "language_info": {
   "codemirror_mode": {
    "name": "ipython",
    "version": 3
   },
   "file_extension": ".py",
   "mimetype": "text/x-python",
   "name": "python",
   "nbconvert_exporter": "python",
   "pygments_lexer": "ipython3",
   "version": "3.8.3"
  }
 },
 "nbformat": 4,
 "nbformat_minor": 4
}
