{
 "cells": [
  {
   "cell_type": "markdown",
   "metadata": {},
   "source": [
    "# 【例6-1】函数的的定义与使用演示。"
   ]
  },
  {
   "cell_type": "code",
   "execution_count": 1,
   "metadata": {},
   "outputs": [
    {
     "name": "stdout",
     "output_type": "stream",
     "text": [
      "Help on function func_demo in module __main__:\n",
      "\n",
      "func_demo(r)\n",
      "    此函数输入参数为圆的半径r，返回值为圆的周长和面积\n",
      "\n",
      "<class 'tuple'>\n",
      "Perimeter is: 56.52\n",
      "Area is: 254.34\n",
      "Help on function func_demo in module __main__:\n",
      "\n",
      "func_demo(r)\n",
      "    此函数输入参数为圆的半径r，返回值为圆的周长和面积\n",
      "\n",
      "None\n"
     ]
    }
   ],
   "source": [
    "def func_demo(r):\n",
    "    '''\n",
    "    此函数输入参数为圆的半径r，返回值为圆的周长和面积\n",
    "    '''\n",
    "    pi = 3.14\n",
    "    p,a = 2 * pi * r, pi * r * r\n",
    "    return p, a\n",
    "\n",
    "r = 9\n",
    "p, a = func_demo(r)\n",
    "help(func_demo)\n",
    "print(type(func_demo(r)))\n",
    "print(f'Perimeter is: {p}')\n",
    "print(f'Area is: {a}')\n",
    "print(help(func_demo))"
   ]
  },
  {
   "cell_type": "markdown",
   "metadata": {},
   "source": [
    "# 【例6-2】函数的反汇编dis模块的使用演示。"
   ]
  },
  {
   "cell_type": "code",
   "execution_count": 2,
   "metadata": {},
   "outputs": [
    {
     "name": "stdout",
     "output_type": "stream",
     "text": [
      "  5           0 LOAD_CONST               1 (3.14)\n",
      "              2 STORE_FAST               1 (pi)\n",
      "\n",
      "  6           4 LOAD_CONST               2 (2)\n",
      "              6 LOAD_FAST                1 (pi)\n",
      "              8 BINARY_MULTIPLY\n",
      "             10 LOAD_FAST                0 (r)\n",
      "             12 BINARY_MULTIPLY\n",
      "             14 LOAD_FAST                1 (pi)\n",
      "             16 LOAD_FAST                0 (r)\n",
      "             18 BINARY_MULTIPLY\n",
      "             20 LOAD_FAST                0 (r)\n",
      "             22 BINARY_MULTIPLY\n",
      "             24 ROT_TWO\n",
      "             26 STORE_FAST               2 (p)\n",
      "             28 STORE_FAST               3 (a)\n",
      "\n",
      "  7          30 LOAD_FAST                2 (p)\n",
      "             32 LOAD_FAST                3 (a)\n",
      "             34 BUILD_TUPLE              2\n",
      "             36 RETURN_VALUE\n"
     ]
    }
   ],
   "source": [
    "import dis\n",
    "dis.dis(func_demo)"
   ]
  },
  {
   "cell_type": "markdown",
   "metadata": {},
   "source": [
    "# 【例6-3】函数的docsString的定义与使用演示。"
   ]
  },
  {
   "cell_type": "code",
   "execution_count": 4,
   "metadata": {},
   "outputs": [
    {
     "name": "stdout",
     "output_type": "stream",
     "text": [
      "Help on function func_demo in module __main__:\n",
      "\n",
      "func_demo(r)\n",
      "    此函数输入参数为圆的半径r，返回值为圆的周长和面积\n",
      "\n",
      "None\n",
      "\n",
      "    此函数输入参数为圆的半径r，返回值为圆的周长和面积\n",
      "    \n"
     ]
    }
   ],
   "source": [
    "def func_demo(r):\n",
    "    '''\n",
    "    此函数输入参数为圆的半径r，返回值为圆的周长和面积\n",
    "    '''\n",
    "    pi = 3.14\n",
    "    p,a = 2 * pi * r,pi * r * r\n",
    "   \n",
    "    return p, a\n",
    "r = 9\n",
    "print(help(func_demo))\n",
    "print(func_demo.__doc__)"
   ]
  },
  {
   "cell_type": "code",
   "execution_count": 5,
   "metadata": {},
   "outputs": [
    {
     "data": {
      "text/plain": [
       "(31.400000000000002, 78.5)"
      ]
     },
     "execution_count": 5,
     "metadata": {},
     "output_type": "execute_result"
    }
   ],
   "source": [
    "func_demo(5)"
   ]
  },
  {
   "cell_type": "markdown",
   "metadata": {},
   "source": [
    "# 【例6-4】函数的参数是按值传递还是按引用传递的代码示例。"
   ]
  },
  {
   "cell_type": "code",
   "execution_count": 6,
   "metadata": {},
   "outputs": [
    {
     "name": "stdout",
     "output_type": "stream",
     "text": [
      "初始状态：------------------------------\n",
      "id(a)=  140723901904672 a=  1 \t id(b)=  2674581529664 b=  [2, 3, 4, 5]\n",
      "函数体内------------------------------\n",
      "id(a)=  140723901905312 a=  21 \t id(b)=  2674581529664 b=  [2, 3, 4, 5, 99]\n",
      "结束状态：------------------------------\n",
      "id(a)=  140723901904672 a=  1 \t id(b)=  2674581529664 b=  [2, 3, 4, 5, 99]\n"
     ]
    }
   ],
   "source": [
    "def print_info(name, a, b):\n",
    "    print(name+'-'*30)\n",
    "    print('id(a)= ', id(a), 'a= ', a, '\\t id(b)= ', id(b), 'b= ', b)\n",
    "\n",
    "def demo(a, b):\n",
    "    a = a + 20\n",
    "    b.append(99)\n",
    "    print_info('函数体内',a, b)\n",
    "\n",
    "if __name__ == '__main__':\n",
    "    a, *b = list(range(1, 6))\n",
    "    print_info('初始状态：',a, b)\n",
    "    demo(a, b)\n",
    "    print_info('结束状态：', a, b)"
   ]
  },
  {
   "cell_type": "markdown",
   "metadata": {},
   "source": [
    "# 【例6-5】函数的默认参数传递代码演示。"
   ]
  },
  {
   "cell_type": "code",
   "execution_count": 8,
   "metadata": {},
   "outputs": [
    {
     "name": "stdout",
     "output_type": "stream",
     "text": [
      "Hello\n",
      "World World World World World \n"
     ]
    }
   ],
   "source": [
    "def repeat(msg, times=1):\n",
    "    print(msg * times)\n",
    "repeat('Hello')\n",
    "repeat('World ', 5)"
   ]
  },
  {
   "cell_type": "markdown",
   "metadata": {},
   "source": [
    "# 【例6-6】函数的关键字参数传递代码演示。"
   ]
  },
  {
   "cell_type": "code",
   "execution_count": 9,
   "metadata": {},
   "outputs": [
    {
     "name": "stdout",
     "output_type": "stream",
     "text": [
      "1 2 3\n",
      "1 2 3\n"
     ]
    }
   ],
   "source": [
    "def fun(x, y, z=1):\n",
    "    print(x, y, z)\n",
    "\n",
    "fun( 1,y=2,z=3)\n",
    "fun(z=3,y=2,x=1)"
   ]
  },
  {
   "cell_type": "markdown",
   "metadata": {},
   "source": [
    "# 【例6-7】函数的可变参数传递代码演示。"
   ]
  },
  {
   "cell_type": "code",
   "execution_count": 10,
   "metadata": {},
   "outputs": [
    {
     "name": "stdout",
     "output_type": "stream",
     "text": [
      "1 99 88 (2, 4) {'k1': 0, 'g': 33}\n"
     ]
    }
   ],
   "source": [
    "def fun(x,*xx,y=21,z=2, **yy):\n",
    "    print(x,y,z,xx,yy)\n",
    "\n",
    "fun(1,2,4, z=88, y=99, k1=0,g=33)"
   ]
  },
  {
   "cell_type": "markdown",
   "metadata": {},
   "source": [
    "# 【例6-8】函数的局部变量代码演示。"
   ]
  },
  {
   "cell_type": "code",
   "execution_count": 11,
   "metadata": {},
   "outputs": [
    {
     "name": "stdout",
     "output_type": "stream",
     "text": [
      "调用前：id(x)=140723901906240\n",
      "x is 50\n",
      "函数体内：id(x)=140723901904704\n",
      "Changed local x to 2\n",
      "调用后：id(x)=140723901906240\n",
      "x is still 50\n"
     ]
    }
   ],
   "source": [
    "x = 50\n",
    "def func(x):\n",
    "    print('x is', x)\n",
    "    x = 2\n",
    "    print(f'函数体内：id(x)={id(x)}')\n",
    "    print('Changed local x to', x)\n",
    "print(f'调用前：id(x)={id(x)}')\n",
    "func(x)\n",
    "print(f'调用后：id(x)={id(x)}')\n",
    "print('x is still', x)"
   ]
  },
  {
   "cell_type": "markdown",
   "metadata": {},
   "source": [
    "# 【例6-9】函数的全局变量代码演示。"
   ]
  },
  {
   "cell_type": "code",
   "execution_count": 1,
   "metadata": {},
   "outputs": [
    {
     "name": "stdout",
     "output_type": "stream",
     "text": [
      "调用前：id(x)=140723901906240\n",
      "x is 50\n",
      "函数体内：id(x)=140723901904704\n",
      "Changed local x to 2\n",
      "调用后：id(x)=140723901904704\n",
      "x is  2\n"
     ]
    }
   ],
   "source": [
    "x = 50\n",
    "def func(xy):\n",
    "    global x\n",
    "    print('x is', x)\n",
    "    x=2\n",
    "    print(f'函数体内：id(x)={id(x)}')\n",
    "    print('Changed local x to', x)\n",
    "print(f'调用前：id(x)={id(x)}')\n",
    "func(x)\n",
    "print(f'调用后：id(x)={id(x)}')\n",
    "print('x is ', x) "
   ]
  },
  {
   "cell_type": "markdown",
   "metadata": {},
   "source": [
    "# 【例6-10】nonlocal修饰变量代码演示。"
   ]
  },
  {
   "cell_type": "code",
   "execution_count": 11,
   "metadata": {},
   "outputs": [
    {
     "name": "stdout",
     "output_type": "stream",
     "text": [
      "119\n"
     ]
    }
   ],
   "source": [
    "x = 120\n",
    "def outer():\n",
    "    x = 119\n",
    "    def inter():\n",
    "        x = 114\n",
    "    inter()\n",
    "    print(x)\n",
    "    \n",
    "outer()"
   ]
  },
  {
   "cell_type": "code",
   "execution_count": 12,
   "metadata": {},
   "outputs": [
    {
     "name": "stdout",
     "output_type": "stream",
     "text": [
      "114\n"
     ]
    }
   ],
   "source": [
    "x = 120\n",
    "def outer():\n",
    "    x = 119\n",
    "    def inter():\n",
    "        nonlocal x\n",
    "        x = 114\n",
    "    inter()\n",
    "    print(x)\n",
    "    \n",
    "outer()"
   ]
  },
  {
   "cell_type": "code",
   "execution_count": 13,
   "metadata": {},
   "outputs": [
    {
     "ename": "SyntaxError",
     "evalue": "no binding for nonlocal 'x' found (<ipython-input-13-8270dd9d2975>, line 5)",
     "output_type": "error",
     "traceback": [
      "\u001b[1;36m  File \u001b[1;32m\"<ipython-input-13-8270dd9d2975>\"\u001b[1;36m, line \u001b[1;32m5\u001b[0m\n\u001b[1;33m    nonlocal x\u001b[0m\n\u001b[1;37m    ^\u001b[0m\n\u001b[1;31mSyntaxError\u001b[0m\u001b[1;31m:\u001b[0m no binding for nonlocal 'x' found\n"
     ]
    }
   ],
   "source": [
    "x = 120\n",
    "def outer():\n",
    "    # x = 119\n",
    "    def inter():\n",
    "        nonlocal x\n",
    "        x = 114\n",
    "    inter()\n",
    "    print(x)\n",
    "    \n",
    "outer()"
   ]
  },
  {
   "cell_type": "markdown",
   "metadata": {},
   "source": [
    "# 【例6-11】Lambda函数代码演示。"
   ]
  },
  {
   "cell_type": "code",
   "execution_count": 14,
   "metadata": {},
   "outputs": [
    {
     "name": "stdout",
     "output_type": "stream",
     "text": [
      "13\n",
      "39\n"
     ]
    }
   ],
   "source": [
    "#本程序演示：有自变量和无自变量lambda函数表达式\n",
    "x=2\n",
    "y=3\n",
    "f=lambda x,y:x*x+y*y\n",
    "g=lambda : 39\n",
    "print(f(x,y))\n",
    "print(g())"
   ]
  },
  {
   "cell_type": "markdown",
   "metadata": {},
   "source": [
    "# 【例6-12】列表推导式代码演示。"
   ]
  },
  {
   "cell_type": "code",
   "execution_count": 15,
   "metadata": {},
   "outputs": [
    {
     "name": "stdout",
     "output_type": "stream",
     "text": [
      "(16, 25)\n",
      "[0, 1, 4, 9, 16, 25, 36, 49, 64, 81]\n",
      "{0, 1, 64, 4, 36, 9, 16, 49, 81, 25}\n"
     ]
    }
   ],
   "source": [
    "a=tuple(x*x for x in range(10) if 3<x<6)\n",
    "b=[x*x for x in range(10)]\n",
    "c=set(x*x for x in range(10))\n",
    "print(a)\n",
    "print(b)\n",
    "print(c)"
   ]
  },
  {
   "cell_type": "markdown",
   "metadata": {},
   "source": [
    "# 【例6-13】dict字典推导式"
   ]
  },
  {
   "cell_type": "code",
   "execution_count": 16,
   "metadata": {},
   "outputs": [
    {
     "name": "stdout",
     "output_type": "stream",
     "text": [
      "{'hello b': 'a world', 'hello d': 'c world'}\n",
      "['ab', 'cd']\n"
     ]
    }
   ],
   "source": [
    "dic = {'a':'b','c':'d'}\n",
    "dic1 = {'hello '+dic[i]:i+' world' for i in dic}\n",
    "print(dic1)\n",
    "print([k+v for (k,v) in dic.items()])"
   ]
  },
  {
   "cell_type": "markdown",
   "metadata": {},
   "source": [
    "# 【例6-14】寻找名字中带有两个e字母且长度超过6个字符的人的名字"
   ]
  },
  {
   "cell_type": "code",
   "execution_count": 17,
   "metadata": {},
   "outputs": [
    {
     "name": "stdout",
     "output_type": "stream",
     "text": [
      "['Jefferson']\n"
     ]
    }
   ],
   "source": [
    "names = [['Teem',\"Billy\",\"Jefferson\",\"Welsey\"],\n",
    "         [\"Alicee\",\"Jill\",\"Ana\",\"Weny\"]]\n",
    "lst = [name for first in names for name in first if name.count('e') == 2 and len(name)>6]\n",
    "print(lst)"
   ]
  },
  {
   "cell_type": "markdown",
   "metadata": {},
   "source": [
    "# 【例6-15】filter（）函数代码演示。"
   ]
  },
  {
   "cell_type": "code",
   "execution_count": 18,
   "metadata": {},
   "outputs": [
    {
     "name": "stdout",
     "output_type": "stream",
     "text": [
      "<filter object at 0x000002A3E258DEB0>\n",
      "<filter object at 0x000002A3E258DE50>\n",
      "['d', 'e', 'f', 'g', 'h', 'i', 'j', 'k']\n",
      "(6, 7, 8, 9)\n"
     ]
    }
   ],
   "source": [
    "x=filter(lambda x: x>'c','abcdefghijk')\n",
    "z=filter(lambda x: 5< x<10,range(1,100))\n",
    "print(x)\n",
    "print(z)\n",
    "print(list(x))\n",
    "print(tuple(z))"
   ]
  },
  {
   "cell_type": "markdown",
   "metadata": {},
   "source": [
    "# 【例6-16】map()函数代码演示。"
   ]
  },
  {
   "cell_type": "code",
   "execution_count": 19,
   "metadata": {},
   "outputs": [
    {
     "name": "stdout",
     "output_type": "stream",
     "text": [
      "<map object at 0x000002A3E2581400>\n",
      "30\n",
      "[2, 4, 6, 8, 10]\n",
      "{2, 4, 6, 8, 10}\n"
     ]
    }
   ],
   "source": [
    "a=[1,2,3,4,5]\n",
    "result1=map(lambda x: x*2,a)\n",
    "result2=sum(map(lambda x: x*2,a))\n",
    "result3=list(map(lambda x: x*2,a))\n",
    "result4=set(map(lambda x: x*2,a))\n",
    "print(result1)\n",
    "print(result2)\n",
    "print(result3)\n",
    "print(result4)"
   ]
  },
  {
   "cell_type": "markdown",
   "metadata": {},
   "source": [
    "# 【例6-17】reduce()函数代码演示。"
   ]
  },
  {
   "cell_type": "code",
   "execution_count": 20,
   "metadata": {},
   "outputs": [
    {
     "name": "stdout",
     "output_type": "stream",
     "text": [
      "15\n",
      "115\n",
      "5\n",
      "4950\n"
     ]
    }
   ],
   "source": [
    "from functools import reduce\n",
    "def add(x,y):\n",
    "    return x+y\n",
    "print (reduce(add,[1,2,3,4,5]))\n",
    "print (reduce(add,(1,2,3,4,5),100))\n",
    "print (reduce(add,{1,2,3,4,5},-10))\n",
    "print(reduce(lambda x,y:x+y,range(1,100)))"
   ]
  },
  {
   "cell_type": "markdown",
   "metadata": {},
   "source": [
    "# 【例6-18】以下演示，装饰器show_run_time()的使用。"
   ]
  },
  {
   "cell_type": "code",
   "execution_count": 23,
   "metadata": {},
   "outputs": [],
   "source": [
    "def demo_func(n):\n",
    "    for i in range(n):\n",
    "        pass\n",
    "if __name__=='__main__':\n",
    "    demo_func(900000)"
   ]
  },
  {
   "cell_type": "markdown",
   "metadata": {},
   "source": [
    "# 【例6-19】函数的闭包代码演示。"
   ]
  },
  {
   "cell_type": "code",
   "execution_count": 24,
   "metadata": {},
   "outputs": [
    {
     "name": "stdout",
     "output_type": "stream",
     "text": [
      "No. 1 alex\n",
      "No. 2 alex\n",
      "No. 3 alex\n",
      "(<cell at 0x000002A3E25815B0: int object at 0x00007FFCD62F3760>, <cell at 0x000002A3E2581B50: str object at 0x000002A3E2545E70>)\n"
     ]
    }
   ],
   "source": [
    "#  闭包\n",
    "def func():\n",
    "    name = 'alex'   # 常驻内存  防止其他程序改变这个变量\n",
    "    counter=0\n",
    "    def inner():\n",
    "        nonlocal counter\n",
    "        counter+=1\n",
    "        print('No.',counter,name) # 内层函数调用外层函数的变量，叫闭包，可以让一个局部变量常驻内存\n",
    "    return inner\n",
    "ret = func()\n",
    "ret()\n",
    "ret()\n",
    "ret()\n",
    "print(ret.__closure__)"
   ]
  },
  {
   "cell_type": "markdown",
   "metadata": {},
   "source": [
    "# 还可以利用函数闭包来实现一个函数的装饰器，以下是闭包函数来实现装饰器的演示代码："
   ]
  },
  {
   "cell_type": "code",
   "execution_count": 29,
   "metadata": {},
   "outputs": [
    {
     "name": "stdout",
     "output_type": "stream",
     "text": [
      "call foo():\n",
      "hello world\n"
     ]
    }
   ],
   "source": [
    "def foo():\n",
    "      print('hello world')\n",
    "    \n",
    "def decorate(fun):\n",
    "    def log():\n",
    "        print('call %s():' % fun.__name__)\n",
    "        fun()\n",
    "    return log\n",
    "foo=decorate(foo)\n",
    "foo()"
   ]
  },
  {
   "cell_type": "markdown",
   "metadata": {},
   "source": [
    "# 【例6-20】生成器代码演示。"
   ]
  },
  {
   "cell_type": "code",
   "execution_count": 30,
   "metadata": {},
   "outputs": [
    {
     "name": "stdout",
     "output_type": "stream",
     "text": [
      "Round.0\n",
      "No.0 欧阳锋\n",
      "No.1 洪七公\n",
      "No.2 黄药师\n"
     ]
    }
   ],
   "source": [
    "def func(num1):\n",
    "   for i in range(num1):\n",
    "       a=yield 'Round.'+str(i)\n",
    "       print(f'No.{i} {a}')\n",
    "\n",
    "g = func(5)  # 获取生成器\n",
    "print(g.__next__())\n",
    "\n",
    "ret2 = g.send(\"欧阳锋\")  # send()  也可以让生成器执行下一步，\n",
    "ret3 = g.send(\"洪七公\")\n",
    "ret4 = g.send(\"黄药师\")"
   ]
  },
  {
   "cell_type": "markdown",
   "metadata": {},
   "source": [
    "# 【例6-21】eval()函数代码演示。"
   ]
  },
  {
   "cell_type": "code",
   "execution_count": 31,
   "metadata": {},
   "outputs": [
    {
     "data": {
      "text/plain": [
       "2"
      ]
     },
     "execution_count": 31,
     "metadata": {},
     "output_type": "execute_result"
    }
   ],
   "source": [
    "x = 1\n",
    "eval('x+1')"
   ]
  },
  {
   "cell_type": "code",
   "execution_count": 32,
   "metadata": {},
   "outputs": [
    {
     "data": {
      "text/plain": [
       "3"
      ]
     },
     "execution_count": 32,
     "metadata": {},
     "output_type": "execute_result"
    }
   ],
   "source": [
    "eval('[2,3,4] [1]' )"
   ]
  },
  {
   "cell_type": "code",
   "execution_count": 33,
   "metadata": {},
   "outputs": [
    {
     "data": {
      "text/plain": [
       "97"
      ]
     },
     "execution_count": 33,
     "metadata": {},
     "output_type": "execute_result"
    }
   ],
   "source": [
    "eval('ord(\"a\")')"
   ]
  },
  {
   "cell_type": "markdown",
   "metadata": {},
   "source": [
    "## 限定表达式的作用范围，不允许使用内置函数，将导致出错"
   ]
  },
  {
   "cell_type": "code",
   "execution_count": 34,
   "metadata": {},
   "outputs": [
    {
     "ename": "TypeError",
     "evalue": "'NoneType' object is not subscriptable",
     "output_type": "error",
     "traceback": [
      "\u001b[1;31m---------------------------------------------------------------------------\u001b[0m",
      "\u001b[1;31mTypeError\u001b[0m                                 Traceback (most recent call last)",
      "\u001b[1;32m<ipython-input-34-aa848f8d2dc0>\u001b[0m in \u001b[0;36m<module>\u001b[1;34m\u001b[0m\n\u001b[1;32m----> 1\u001b[1;33m \u001b[0meval\u001b[0m\u001b[1;33m(\u001b[0m\u001b[1;34m'ord(\"a\")'\u001b[0m\u001b[1;33m,\u001b[0m\u001b[1;33m{\u001b[0m\u001b[1;34m'__builtins__'\u001b[0m\u001b[1;33m:\u001b[0m\u001b[1;32mNone\u001b[0m\u001b[1;33m}\u001b[0m\u001b[1;33m)\u001b[0m\u001b[1;33m\u001b[0m\u001b[1;33m\u001b[0m\u001b[0m\n\u001b[0m",
      "\u001b[1;32m<string>\u001b[0m in \u001b[0;36m<module>\u001b[1;34m\u001b[0m\n",
      "\u001b[1;31mTypeError\u001b[0m: 'NoneType' object is not subscriptable"
     ]
    }
   ],
   "source": [
    "eval('ord(\"a\")',{'__builtins__':None})"
   ]
  },
  {
   "cell_type": "markdown",
   "metadata": {},
   "source": [
    "# 【例6-22】exec()函数代码演示。"
   ]
  },
  {
   "cell_type": "code",
   "execution_count": 37,
   "metadata": {},
   "outputs": [
    {
     "name": "stdout",
     "output_type": "stream",
     "text": [
      "112\n",
      "['In', 'Out', '_', '_31', '_32', '_33', '__', '___', '__builtin__', '__builtins__', '__doc__', '__loader__', '__name__', '__package__', '__spec__', '_dh', '_i', '_i1', '_i10', '_i11', '_i12', '_i13', '_i14', '_i15', '_i16', '_i17', '_i18', '_i19', '_i2', '_i20', '_i21', '_i22', '_i23', '_i24', '_i25', '_i27', '_i28', '_i29', '_i3', '_i30', '_i31', '_i32', '_i33', '_i34', '_i35', '_i36', '_i37', '_i4', '_i5', '_i6', '_i7', '_i8', '_i9', '_ih', '_ii', '_iii', '_oh', 'a', 'add', 'b', 'c', 'decorate', 'demo_func', 'dic', 'dic1', 'exit', 'f', 'foo', 'func', 'g', 'get_ipython', 'lst', 'names', 'outer', 'quit', 'reduce', 'result1', 'result2', 'result3', 'result4', 'ret', 'ret2', 'ret3', 'ret4', 'x', 'y', 'z']\n"
     ]
    }
   ],
   "source": [
    "x=100\n",
    "exec('x=x+12')\n",
    "print(x)\n",
    "exec('print(dir())')"
   ]
  },
  {
   "cell_type": "code",
   "execution_count": 38,
   "metadata": {},
   "outputs": [
    {
     "name": "stdout",
     "output_type": "stream",
     "text": [
      "112\n",
      "['In', 'Out', '_', '_31', '_32', '_33', '__', '___', '__builtin__', '__builtins__', '__doc__', '__loader__', '__name__', '__package__', '__spec__', '_dh', '_i', '_i1', '_i10', '_i11', '_i12', '_i13', '_i14', '_i15', '_i16', '_i17', '_i18', '_i19', '_i2', '_i20', '_i21', '_i22', '_i23', '_i24', '_i25', '_i27', '_i28', '_i29', '_i3', '_i30', '_i31', '_i32', '_i33', '_i34', '_i35', '_i36', '_i37', '_i38', '_i4', '_i5', '_i6', '_i7', '_i8', '_i9', '_ih', '_ii', '_iii', '_oh', 'a', 'add', 'b', 'c', 'decorate', 'demo_func', 'dic', 'dic1', 'exit', 'f', 'foo', 'func', 'g', 'get_ipython', 'lst', 'names', 'outer', 'quit', 'reduce', 'result1', 'result2', 'result3', 'result4', 'ret', 'ret2', 'ret3', 'ret4', 'x', 'y', 'z']\n"
     ]
    },
    {
     "ename": "TypeError",
     "evalue": "'NoneType' object is not subscriptable",
     "output_type": "error",
     "traceback": [
      "\u001b[1;31m---------------------------------------------------------------------------\u001b[0m",
      "\u001b[1;31mTypeError\u001b[0m                                 Traceback (most recent call last)",
      "\u001b[1;32m<ipython-input-38-d48856763207>\u001b[0m in \u001b[0;36m<module>\u001b[1;34m\u001b[0m\n\u001b[0;32m      3\u001b[0m \u001b[0mprint\u001b[0m\u001b[1;33m(\u001b[0m\u001b[0mx\u001b[0m\u001b[1;33m)\u001b[0m\u001b[1;33m\u001b[0m\u001b[1;33m\u001b[0m\u001b[0m\n\u001b[0;32m      4\u001b[0m \u001b[0mexec\u001b[0m\u001b[1;33m(\u001b[0m\u001b[1;34m'print(dir())'\u001b[0m\u001b[1;33m)\u001b[0m\u001b[1;33m\u001b[0m\u001b[1;33m\u001b[0m\u001b[0m\n\u001b[1;32m----> 5\u001b[1;33m \u001b[0mexec\u001b[0m\u001b[1;33m(\u001b[0m\u001b[1;34m'print(dir())'\u001b[0m\u001b[1;33m,\u001b[0m\u001b[1;33m{\u001b[0m\u001b[1;34m'__builtins__'\u001b[0m\u001b[1;33m:\u001b[0m\u001b[1;32mNone\u001b[0m\u001b[1;33m}\u001b[0m\u001b[1;33m)\u001b[0m \u001b[1;31m#导致出错，因为不允许使用内部函数\u001b[0m\u001b[1;33m\u001b[0m\u001b[1;33m\u001b[0m\u001b[0m\n\u001b[0m",
      "\u001b[1;32m<string>\u001b[0m in \u001b[0;36m<module>\u001b[1;34m\u001b[0m\n",
      "\u001b[1;31mTypeError\u001b[0m: 'NoneType' object is not subscriptable"
     ]
    }
   ],
   "source": [
    "x=100\n",
    "exec('x=x+12')\n",
    "print(x)\n",
    "exec('print(dir())')\n",
    "exec('print(dir())',{'__builtins__':None}) #导致出错，因为不允许使用内部函数"
   ]
  },
  {
   "cell_type": "code",
   "execution_count": 39,
   "metadata": {},
   "outputs": [],
   "source": [
    "exec('[(x**2) for x in range(7)]') "
   ]
  },
  {
   "cell_type": "markdown",
   "metadata": {},
   "source": [
    "## Nothing happens! We must use Python eval instead:"
   ]
  },
  {
   "cell_type": "code",
   "execution_count": 40,
   "metadata": {},
   "outputs": [
    {
     "data": {
      "text/plain": [
       "[0, 1, 4, 9, 16, 25, 36]"
      ]
     },
     "execution_count": 40,
     "metadata": {},
     "output_type": "execute_result"
    }
   ],
   "source": [
    "eval('[(x**2) for x in range(7)]')"
   ]
  }
 ],
 "metadata": {
  "kernelspec": {
   "display_name": "Python [conda env:root] *",
   "language": "python",
   "name": "conda-root-py"
  },
  "language_info": {
   "codemirror_mode": {
    "name": "ipython",
    "version": 3
   },
   "file_extension": ".py",
   "mimetype": "text/x-python",
   "name": "python",
   "nbconvert_exporter": "python",
   "pygments_lexer": "ipython3",
   "version": "3.8.3"
  }
 },
 "nbformat": 4,
 "nbformat_minor": 4
}
