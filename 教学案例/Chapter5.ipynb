{
 "cells": [
  {
   "cell_type": "markdown",
   "metadata": {},
   "source": [
    "# 【例5-1】输入0~100任意数字成绩，通过if语句判断成绩的等第。\n",
    "## 分数小于60分为不及格，60-70之间为合格，70-80之间为中等，80-90之间为良好，90-100为优秀，分数不在0-100之间输出“输入有误！”\n"
   ]
  },
  {
   "cell_type": "code",
   "execution_count": 1,
   "metadata": {},
   "outputs": [
    {
     "name": "stdout",
     "output_type": "stream",
     "text": [
      "请输入分数：50\n",
      "挂科！\n"
     ]
    }
   ],
   "source": [
    "num = int(input('请输入分数：'))\n",
    "if  0<= num < 60:    # 判断值是否在0~60之间\n",
    "    print ('挂科！')\n",
    "elif 60<=num<70:    # 判断值是否在60~70之间\n",
    "    print ('及格')\n",
    "elif 70<=num<80:    # 判断值是否在70~80之间\n",
    "    print ('中')\n",
    "elif 80<=num<90:    # 判断值是否在80~90之间\n",
    "    print ('良好')\n",
    "elif 80<=num<=100:    # 判断值是否在90~100之间\n",
    "    print ('优秀')\n",
    "else:\n",
    "    print ('输入有误！')"
   ]
  },
  {
   "cell_type": "markdown",
   "metadata": {},
   "source": [
    "## 如果字符串s的长度大于4，把s赋值给b，否则把’too short’赋值给b。"
   ]
  },
  {
   "cell_type": "code",
   "execution_count": 2,
   "metadata": {},
   "outputs": [
    {
     "name": "stdout",
     "output_type": "stream",
     "text": [
      "请输入一个长度大于4的字符串：33lo\n"
     ]
    },
    {
     "data": {
      "text/plain": [
       "'too short'"
      ]
     },
     "execution_count": 2,
     "metadata": {},
     "output_type": "execute_result"
    }
   ],
   "source": [
    "s= input('请输入一个长度大于4的字符串：')\n",
    "b=s if len(s)>4 else 'too short'\n",
    "b"
   ]
  },
  {
   "cell_type": "markdown",
   "metadata": {},
   "source": [
    "## 如果a等于10，输出’等于10’，否则输出’不等于10’。"
   ]
  },
  {
   "cell_type": "code",
   "execution_count": 3,
   "metadata": {},
   "outputs": [
    {
     "name": "stdout",
     "output_type": "stream",
     "text": [
      "等于10\n"
     ]
    }
   ],
   "source": [
    "a=10\n",
    "print('等于10') if a ==10 else print('不等于10')"
   ]
  },
  {
   "cell_type": "markdown",
   "metadata": {},
   "source": [
    "# 【例5-2】 while循环示例。"
   ]
  },
  {
   "cell_type": "code",
   "execution_count": 4,
   "metadata": {},
   "outputs": [
    {
     "name": "stdout",
     "output_type": "stream",
     "text": [
      "Round.0 test!\n",
      "Round.1 test!\n",
      "Round.2 test!\n"
     ]
    }
   ],
   "source": [
    "# 用while循环，必须有一控制逻辑条件\n",
    "count=0\n",
    "while count<3:\n",
    "    # 循环就是重复执行循环体里面的代码\n",
    "    print(f'Round.{count} test!')\n",
    "    count+=1"
   ]
  },
  {
   "cell_type": "markdown",
   "metadata": {},
   "source": [
    "# Python的for语句是遍历任何可迭代（Iterates）的对象，如：list、set等。而不是仅用来控制循环次数或循环条件，这与C与Java语言中的for语句本质不同。\n"
   ]
  },
  {
   "cell_type": "code",
   "execution_count": 5,
   "metadata": {},
   "outputs": [
    {
     "name": "stdout",
     "output_type": "stream",
     "text": [
      "0 hello\n",
      "1 world\n"
     ]
    }
   ],
   "source": [
    "a = ['hello', 'world']\n",
    "for i in range(len(a)):\n",
    "    print(i, a[i])"
   ]
  },
  {
   "cell_type": "markdown",
   "metadata": {},
   "source": [
    "# 【例5-3】for循环代码示例。\n",
    "## while和for循环语句可以包含else子句（虽然使用概率很低）。即：结束while或for循环后执行的语句。"
   ]
  },
  {
   "cell_type": "code",
   "execution_count": 8,
   "metadata": {},
   "outputs": [
    {
     "name": "stdout",
     "output_type": "stream",
     "text": [
      "get Youtub\n",
      "get Google\n",
      "get Baidu\n",
      "get Taobao\n",
      "没有循环数据!\n",
      "完成循环!\n",
      "\n",
      "\n",
      "get Youtub\n",
      "get Google\n",
      "完成循环!\n"
     ]
    }
   ],
   "source": [
    "'''\n",
    "for 迭代对象 in 序列:\n",
    "    代码块(一行语句或多行代码)\n",
    "else:\n",
    "    代码块(一行语句或多行代码)\n",
    "'''\n",
    "'''\n",
    "while 条件：\n",
    "else:\n",
    "    代码块(一行语句或多行代码)\n",
    "'''\n",
    "sites = [\"Youtub\", \"Google\",\"Baidu\",\"Taobao\"]\n",
    "for site in sites:\n",
    "    if site == \"sohu\":\n",
    "       break\n",
    "    print(\"get \" + site)\n",
    "else:\n",
    "    print(\"没有循环数据!\")\n",
    "print(\"完成循环!\")\n",
    "\n",
    "print(\"\\n\")\n",
    "\n",
    "sites = [\"Youtub\", \"Google\",\"sohu\",\"Baidu\",\"Taobao\"]\n",
    "for site in sites:\n",
    "    if site == \"sohu\":\n",
    "       break\n",
    "    print(\"get \" + site)\n",
    "else:\n",
    "    print(\"没有循环数据!\")\n",
    "print(\"完成循环!\")"
   ]
  },
  {
   "cell_type": "markdown",
   "metadata": {},
   "source": [
    "# 【例5-4】continue代码示例。"
   ]
  },
  {
   "cell_type": "code",
   "execution_count": 9,
   "metadata": {},
   "outputs": [
    {
     "name": "stdout",
     "output_type": "stream",
     "text": [
      "1\n",
      "3\n",
      "4\n",
      "5\n",
      "6\n"
     ]
    }
   ],
   "source": [
    "#continue,跳过循环\n",
    "a = '2123456'\n",
    "for letter in a:\n",
    "    if letter == '2':\n",
    "        continue\n",
    "    print(letter)"
   ]
  },
  {
   "cell_type": "markdown",
   "metadata": {},
   "source": [
    "# 【例5-5】break代码示例。"
   ]
  },
  {
   "cell_type": "code",
   "execution_count": 10,
   "metadata": {},
   "outputs": [
    {
     "name": "stdout",
     "output_type": "stream",
     "text": [
      "1\n"
     ]
    }
   ],
   "source": [
    "#break，跳出循环\n",
    "b = '1234567'\n",
    "for sam in b:\n",
    "    if sam == '2':\n",
    "        break\n",
    "    print(sam)"
   ]
  },
  {
   "cell_type": "markdown",
   "metadata": {},
   "source": [
    "# 【例5-6】异常代码示例。"
   ]
  },
  {
   "cell_type": "code",
   "execution_count": 1,
   "metadata": {},
   "outputs": [
    {
     "name": "stdout",
     "output_type": "stream",
     "text": [
      "please input the number?ok\n"
     ]
    },
    {
     "ename": "ValueError",
     "evalue": "invalid literal for int() with base 10: 'ok'",
     "output_type": "error",
     "traceback": [
      "\u001b[1;31m---------------------------------------------------------------------------\u001b[0m",
      "\u001b[1;31mValueError\u001b[0m                                Traceback (most recent call last)",
      "\u001b[1;32m<ipython-input-1-0bd93c53ff22>\u001b[0m in \u001b[0;36m<module>\u001b[1;34m\u001b[0m\n\u001b[0;32m      1\u001b[0m \u001b[0mnum\u001b[0m\u001b[1;33m=\u001b[0m\u001b[0minput\u001b[0m\u001b[1;33m(\u001b[0m\u001b[1;34m'please input the number?'\u001b[0m\u001b[1;33m)\u001b[0m\u001b[1;33m\u001b[0m\u001b[1;33m\u001b[0m\u001b[0m\n\u001b[1;32m----> 2\u001b[1;33m \u001b[1;32mfor\u001b[0m \u001b[0mi\u001b[0m \u001b[1;32min\u001b[0m \u001b[0mrange\u001b[0m\u001b[1;33m(\u001b[0m\u001b[0mint\u001b[0m\u001b[1;33m(\u001b[0m\u001b[0mnum\u001b[0m\u001b[1;33m)\u001b[0m\u001b[1;33m)\u001b[0m\u001b[1;33m:\u001b[0m\u001b[1;33m\u001b[0m\u001b[1;33m\u001b[0m\u001b[0m\n\u001b[0m\u001b[0;32m      3\u001b[0m     \u001b[0mprint\u001b[0m\u001b[1;33m(\u001b[0m\u001b[0mi\u001b[0m\u001b[1;33m)\u001b[0m\u001b[1;33m\u001b[0m\u001b[1;33m\u001b[0m\u001b[0m\n",
      "\u001b[1;31mValueError\u001b[0m: invalid literal for int() with base 10: 'ok'"
     ]
    }
   ],
   "source": [
    "num=input('please input the number?')\n",
    "for i in range(int(num)):\n",
    "    print(i)"
   ]
  },
  {
   "cell_type": "markdown",
   "metadata": {},
   "source": [
    "# 【例5-7】异常捕获与处理代码示例。"
   ]
  },
  {
   "cell_type": "code",
   "execution_count": 2,
   "metadata": {},
   "outputs": [
    {
     "name": "stdout",
     "output_type": "stream",
     "text": [
      "please input the number?ss\n",
      "Oops!  That was no valid number.  Try again   \n",
      "Whatever, I always run!\n",
      "please input the number?3\n",
      "0\n",
      "1\n",
      "2\n",
      "Whatever, I always run!\n"
     ]
    }
   ],
   "source": [
    "while True:\n",
    "    try:\n",
    "        num=input('please input the number?')\n",
    "        for i in range(int(num)):\n",
    "            print(i)\n",
    "        break\n",
    "    except ValueError:\n",
    "        print(\"Oops!  That was no valid number.  Try again   \")\n",
    "    finally:\n",
    "        print('Whatever, I always run!')   "
   ]
  },
  {
   "cell_type": "markdown",
   "metadata": {},
   "source": [
    "## 异常的参数"
   ]
  },
  {
   "cell_type": "code",
   "execution_count": 3,
   "metadata": {},
   "outputs": [
    {
     "name": "stdout",
     "output_type": "stream",
     "text": [
      "please input the number?rr\n",
      "(\"invalid literal for int() with base 10: 'rr'\",)\n",
      "Whatever, I always run!\n",
      "please input the number?2\n",
      "0\n",
      "1\n",
      "Whatever, I always run!\n"
     ]
    }
   ],
   "source": [
    "while True:\n",
    "    try:\n",
    "        num=input('please input the number?')\n",
    "        for i in range(int(num)):\n",
    "            print(i)\n",
    "        break\n",
    "    except ValueError as arg :\n",
    "         print(arg.args)\n",
    "    finally:\n",
    "        print('Whatever, I always run!')"
   ]
  },
  {
   "cell_type": "markdown",
   "metadata": {},
   "source": [
    "##  抛出异常"
   ]
  },
  {
   "cell_type": "code",
   "execution_count": 5,
   "metadata": {},
   "outputs": [
    {
     "name": "stdout",
     "output_type": "stream",
     "text": [
      "input x:3\n"
     ]
    },
    {
     "ename": "NameError",
     "evalue": "HiThere",
     "output_type": "error",
     "traceback": [
      "\u001b[1;31m---------------------------------------------------------------------------\u001b[0m",
      "\u001b[1;31mNameError\u001b[0m                                 Traceback (most recent call last)",
      "\u001b[1;32m<ipython-input-5-a3f96333349b>\u001b[0m in \u001b[0;36m<module>\u001b[1;34m\u001b[0m\n\u001b[0;32m      1\u001b[0m \u001b[0mx\u001b[0m\u001b[1;33m=\u001b[0m\u001b[0minput\u001b[0m\u001b[1;33m(\u001b[0m\u001b[1;34m'input x:'\u001b[0m\u001b[1;33m)\u001b[0m\u001b[1;33m\u001b[0m\u001b[1;33m\u001b[0m\u001b[0m\n\u001b[0;32m      2\u001b[0m \u001b[1;32mif\u001b[0m \u001b[1;33m(\u001b[0m\u001b[0mint\u001b[0m\u001b[1;33m(\u001b[0m\u001b[0mx\u001b[0m\u001b[1;33m)\u001b[0m\u001b[1;33m<\u001b[0m\u001b[1;36m5\u001b[0m\u001b[1;33m)\u001b[0m\u001b[1;33m:\u001b[0m\u001b[1;33m\u001b[0m\u001b[1;33m\u001b[0m\u001b[0m\n\u001b[1;32m----> 3\u001b[1;33m     \u001b[1;32mraise\u001b[0m  \u001b[0mNameError\u001b[0m\u001b[1;33m(\u001b[0m\u001b[1;34m'HiThere'\u001b[0m\u001b[1;33m)\u001b[0m\u001b[1;33m\u001b[0m\u001b[1;33m\u001b[0m\u001b[0m\n\u001b[0m",
      "\u001b[1;31mNameError\u001b[0m: HiThere"
     ]
    }
   ],
   "source": [
    "x=input('input x:')\n",
    "if (int(x)<5):\n",
    "    raise  NameError('HiThere')"
   ]
  },
  {
   "cell_type": "markdown",
   "metadata": {},
   "source": [
    "# 【例5-8】raise主动抛出异常代码示例。"
   ]
  },
  {
   "cell_type": "code",
   "execution_count": 6,
   "metadata": {},
   "outputs": [
    {
     "name": "stdout",
     "output_type": "stream",
     "text": [
      "input x:4\n",
      "Hi There\n"
     ]
    }
   ],
   "source": [
    "try:\n",
    "    x=input('input x:')\n",
    "    if (int(x)<5):\n",
    "        raise NameError('Hi There')\n",
    "    print(x)\n",
    "except NameError as arg:\n",
    "    print(arg)"
   ]
  },
  {
   "cell_type": "markdown",
   "metadata": {},
   "source": [
    "# 【例5-9】assert断言代码示例。"
   ]
  },
  {
   "cell_type": "code",
   "execution_count": 9,
   "metadata": {},
   "outputs": [],
   "source": [
    "assert 1==1"
   ]
  },
  {
   "cell_type": "code",
   "execution_count": 10,
   "metadata": {},
   "outputs": [
    {
     "ename": "AssertionError",
     "evalue": "",
     "output_type": "error",
     "traceback": [
      "\u001b[1;31m---------------------------------------------------------------------------\u001b[0m",
      "\u001b[1;31mAssertionError\u001b[0m                            Traceback (most recent call last)",
      "\u001b[1;32m<ipython-input-10-788ee363e0a2>\u001b[0m in \u001b[0;36m<module>\u001b[1;34m\u001b[0m\n\u001b[1;32m----> 1\u001b[1;33m \u001b[1;32massert\u001b[0m \u001b[1;36m1\u001b[0m\u001b[1;33m==\u001b[0m\u001b[1;36m0\u001b[0m\u001b[1;33m\u001b[0m\u001b[1;33m\u001b[0m\u001b[0m\n\u001b[0m",
      "\u001b[1;31mAssertionError\u001b[0m: "
     ]
    }
   ],
   "source": [
    "assert 1==0"
   ]
  },
  {
   "cell_type": "markdown",
   "metadata": {},
   "source": [
    "# 【例5-10】使用with语句打开文本文件c:/a.txt，并显示文件内容。"
   ]
  },
  {
   "cell_type": "code",
   "execution_count": 12,
   "metadata": {},
   "outputs": [
    {
     "name": "stdout",
     "output_type": "stream",
     "text": [
      "python--\n"
     ]
    }
   ],
   "source": [
    "with open('c:/a.txt',encoding='utf-8') as f :\n",
    "    print(f.read())"
   ]
  },
  {
   "cell_type": "markdown",
   "metadata": {},
   "source": [
    "# 【例5-11】Python中可变对象与不可变对象代码测试。（通过代码自动判读对象是否可以改变）"
   ]
  },
  {
   "cell_type": "code",
   "execution_count": 13,
   "metadata": {},
   "outputs": [],
   "source": [
    "a=[1,2,'hello']\n",
    "b=set('hello')\n",
    "c=dict(one=11, two=22, three=33)\n",
    "d=bytearray('hello',encoding='utf-8')\n",
    "e=(1,2,'hello')\n",
    "f=range(1,6,2)\n",
    "g='hello'\n",
    "h=bytes('hello',encoding='utf-8')\n",
    "i=memoryview(b'hello')\n",
    "j=frozenset('hello')"
   ]
  },
  {
   "cell_type": "code",
   "execution_count": 14,
   "metadata": {},
   "outputs": [
    {
     "name": "stdout",
     "output_type": "stream",
     "text": [
      "<class 'list'> 是可变对象\n",
      "<class 'set'> 是可变对象\n",
      "<class 'dict'> 是可变对象\n",
      "<class 'bytearray'> 是可变对象\n",
      "<class 'tuple'> 是不可变对象\n",
      "<class 'range'> 是不可变对象\n",
      "<class 'str'> 是不可变对象\n",
      "<class 'bytes'> 是不可变对象\n",
      "<class 'memoryview'> 是不可变对象\n",
      "<class 'frozenset'> 是不可变对象\n"
     ]
    }
   ],
   "source": [
    "test=[a,b,c,d,e,f,g,h,i,j]\n",
    "for i in test:\n",
    "    try:\n",
    "        hash(i)\n",
    "        print(f'{type(i)} 是不可变对象')\n",
    "    except:\n",
    "        print(f'{type(i)} 是可变对象')"
   ]
  }
 ],
 "metadata": {
  "kernelspec": {
   "display_name": "Python [conda env:root] *",
   "language": "python",
   "name": "conda-root-py"
  },
  "language_info": {
   "codemirror_mode": {
    "name": "ipython",
    "version": 3
   },
   "file_extension": ".py",
   "mimetype": "text/x-python",
   "name": "python",
   "nbconvert_exporter": "python",
   "pygments_lexer": "ipython3",
   "version": "3.8.3"
  }
 },
 "nbformat": 4,
 "nbformat_minor": 4
}
