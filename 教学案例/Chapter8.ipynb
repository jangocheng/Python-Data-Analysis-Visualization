{
 "cells": [
  {
   "cell_type": "code",
   "execution_count": 1,
   "metadata": {},
   "outputs": [],
   "source": [
    "from requests_html import HTMLSession\n",
    "session = HTMLSession()\n",
    "url = \"https://www.baidu.com/\"\n",
    "fileName = 'C:\\\\Users\\\\28032\\\\Desktop\\\\a.html'\n",
    "with session.get(url) as r ,open(fileName,'w',encoding = 'utf') as f:\n",
    "    f.write(r.text)\n",
    "#     print(r.text)"
   ]
  },
  {
   "cell_type": "code",
   "execution_count": 2,
   "metadata": {},
   "outputs": [],
   "source": [
    "from requests_html import HTMLSession\n",
    "session = HTMLSession()\n",
    "r = session.post(\"http://www.shnu.edu.cn/\")\n",
    "# print(r.html.links)\n",
    "for link in r.html.absolute_links:\n",
    "    pass\n",
    "#     print(link)\n"
   ]
  },
  {
   "cell_type": "code",
   "execution_count": 3,
   "metadata": {},
   "outputs": [
    {
     "name": "stdout",
     "output_type": "stream",
     "text": [
      "市政府发布三项通告，加强第三届进博会期间...\n",
      "2020年119消防月主题活动通知\n",
      "关于做好2020年度工作总结和2021年度工作计...\n",
      "学生宿舍楼应急疏散逃生演练通知\n",
      "关于启动2020年度初、中级专业技术职务评聘...\n",
      "关于推荐2019—2020年度上海市及教育系统三...\n"
     ]
    }
   ],
   "source": [
    "from requests_html import HTMLSession\n",
    "session = HTMLSession()\n",
    "site = session.get(\"http://www.shnu.edu.cn/\")\n",
    "public_notice_items = site.html.find('div#wp_news_w21')\n",
    "# 根据id获取内容，使用 # 号连接，全部z拿回来的数据是一个list 对象\n",
    "for public_notice_item in public_notice_items:\n",
    "    public_notice_list = public_notice_item.find('a')\n",
    "    for item in public_notice_list:\n",
    "        print(item.text)"
   ]
  },
  {
   "cell_type": "code",
   "execution_count": 4,
   "metadata": {},
   "outputs": [
    {
     "name": "stdout",
     "output_type": "stream",
     "text": [
      "中国暂停部分国家人员..\n",
      "蚂蚁集团:11月6日..\n",
      "华为起诉美国政府16..\n",
      "官方回应韩女团不戴手..\n",
      "美是中国外逃腐败分子..\n",
      "冠脉支架进入“千元时..\n",
      "美国防长埃斯珀已准备..\n",
      "库克被指隐瞒iPho..\n",
      "外交部回应暂停部分国..\n",
      "小伙街头遭陌生男子强..\n",
      "完整榜单\n"
     ]
    }
   ],
   "source": [
    "from requests_html import HTMLSession\n",
    "session = HTMLSession()\n",
    "site = session.get(\"http://top.baidu.com/\")\n",
    "top_items = site.html.find('div.tab-box',first = True)\n",
    "#根据class获取内容，使用 . 号连接，first = True 表示，如果第一个元素符合要求，则只返回第一个元素，拿回来的内容是一个字符串类型的对象\n",
    "top_list = top_items.find('a')\n",
    "for item in top_list[::2]:\n",
    "    print(item.text) "
   ]
  },
  {
   "cell_type": "code",
   "execution_count": 5,
   "metadata": {},
   "outputs": [],
   "source": [
    "#爬取地铁线路\n",
    "from requests_html import HTMLSession\n",
    "import pandas as pd\n",
    "\n",
    "#把所有的路线极其url保存为字典类型的。\n",
    "def get_lines():\n",
    "    subway_number_list = list(range(1,14))+[16,17,41]\n",
    "    subway_number_str_list = list(map(lambda x:str(x).rjust(2,'0'),\n",
    "                                      subway_number_list))\n",
    "    url_head = \"http://service.shmetro.com/axlcz\"\n",
    "    url_tail = \"/index.htm\"\n",
    "    subway_url_dict = dict(map(lambda x:(x,url_head + x + url_tail),\n",
    "                               subway_number_str_list))\n",
    "    subway_url_dict['浦江线'] = subway_url_dict.pop('41')\n",
    "    return subway_url_dict\n",
    "#根据每一条线路的url，在网站上搜出对应的站点\n",
    "def get_stations(line):\n",
    "    site = session.get(line) \n",
    "    line_list = site.html.find('div.linehow',first = True)\n",
    "    station_list = line_list.find('a')\n",
    "    line = []\n",
    "    for station in station_list:\n",
    "        line.append(station.text)\n",
    "    return line\n",
    "\n",
    "from requests_html import HTMLSession\n",
    "session  = HTMLSession()\n",
    "df = pd.DataFrame()\n",
    "lines = get_lines()\n",
    "for line in lines.keys():\n",
    "    df[line] = pd.Series(get_stations(lines[line]))\n",
    "df.to_excel(\"C:\\\\Users\\\\28032\\\\Desktop\\\\shanghai_subway_lines.xlsx\")"
   ]
  },
  {
   "cell_type": "code",
   "execution_count": null,
   "metadata": {},
   "outputs": [],
   "source": []
  }
 ],
 "metadata": {
  "kernelspec": {
   "display_name": "Python 3",
   "language": "python",
   "name": "python3"
  },
  "language_info": {
   "codemirror_mode": {
    "name": "ipython",
    "version": 3
   },
   "file_extension": ".py",
   "mimetype": "text/x-python",
   "name": "python",
   "nbconvert_exporter": "python",
   "pygments_lexer": "ipython3",
   "version": "3.8.3"
  }
 },
 "nbformat": 4,
 "nbformat_minor": 4
}
